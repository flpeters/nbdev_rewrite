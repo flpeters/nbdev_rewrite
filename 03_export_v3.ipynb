{
 "cells": [
  {
   "cell_type": "code",
   "execution_count": null,
   "metadata": {},
   "outputs": [],
   "source": [
    "# export\n",
    "from collections import namedtuple, defaultdict\n",
    "import os\n",
    "import re\n",
    "from nbdev_rewrite.imports import *\n",
    "\n",
    "from inspect import signature\n",
    "\n",
    "import ast\n",
    "from ast import iter_fields, AST\n",
    "import _ast"
   ]
  },
  {
   "cell_type": "code",
   "execution_count": null,
   "metadata": {},
   "outputs": [],
   "source": [
    "def init_config(lib_name='nbdev_rewrite', user='flpeters', nbs_path='.'):\n",
    "    \"create a config file, if it doesn't already exist\"\n",
    "    if not Config().config_file.exists(): create_config(lib_name, user, nbs_path=nbs_path)\n",
    "init_config()"
   ]
  },
  {
   "cell_type": "code",
   "execution_count": null,
   "metadata": {},
   "outputs": [],
   "source": [
    "def init_lib():\n",
    "    \"initialize the module folder, if it's not initialized already\"\n",
    "    C = Config()\n",
    "    if (not C.lib_path.exists()) or (not (C.lib_path/'__init__.py').exists()):\n",
    "        C.lib_path.mkdir(parents=True, exist_ok=True)\n",
    "        with (C.lib_path/'__init__.py').open('w') as f:\n",
    "            f.write(f'__version__ = \"{C.version}\"\\n')\n",
    "    else: pass # module *should* already exists\n",
    "init_lib()"
   ]
  },
  {
   "cell_type": "code",
   "execution_count": null,
   "metadata": {},
   "outputs": [
    {
     "data": {
      "text/plain": [
       "[WindowsPath('D:/Projects/GitHub/nbdev_rewrite/00_export.ipynb'),\n",
       " WindowsPath('D:/Projects/GitHub/nbdev_rewrite/01_export_v2.ipynb'),\n",
       " WindowsPath('D:/Projects/GitHub/nbdev_rewrite/02_export_v3.ipynb'),\n",
       " WindowsPath('D:/Projects/GitHub/nbdev_rewrite/02_helpers.ipynb'),\n",
       " WindowsPath('D:/Projects/GitHub/nbdev_rewrite/99_index.ipynb'),\n",
       " WindowsPath('D:/Projects/GitHub/nbdev_rewrite/sub/lalalala.ipynb')]"
      ]
     },
     "execution_count": null,
     "metadata": {},
     "output_type": "execute_result"
    }
   ],
   "source": [
    "_reserved_dirs = (Config().lib_path, Config().nbs_path, Config().doc_path)\n",
    "def crawl_nbs(path:Path=None, recurse:bool=True) -> list:\n",
    "    \"finds a list of ipynb files to convert\"\n",
    "    if path is None: path = Config().nbs_path\n",
    "    files = []\n",
    "    if isinstance(path, (list, tuple)):\n",
    "        for p in path: files.extend(crawl_nbs(p))\n",
    "    elif path.is_file(): return [path]\n",
    "    else:\n",
    "        for p in path.iterdir():\n",
    "            f = p.name\n",
    "            if f.startswith('.') or f.startswith('_'): continue\n",
    "            if p.is_file():\n",
    "                if f.endswith('.ipynb'): files.append(p)\n",
    "                else: continue\n",
    "            elif p.is_dir() and recurse:\n",
    "                if p in _reserved_dirs: continue\n",
    "                else: files.extend(crawl_nbs(p))\n",
    "            else: pass\n",
    "    return files\n",
    "crawl_nbs()"
   ]
  },
  {
   "cell_type": "code",
   "execution_count": null,
   "metadata": {},
   "outputs": [],
   "source": [
    "def read_nb(fname:Path) -> nbformat.notebooknode.NotebookNode:\n",
    "    \"Read the notebook in `fname`.\"\n",
    "    with open(Path(fname),'r', encoding='utf8') as f: return nbformat.reads(f.read(), as_version=4)"
   ]
  },
  {
   "cell_type": "code",
   "execution_count": null,
   "metadata": {},
   "outputs": [
    {
     "data": {
      "text/plain": [
       "'test\\\\abc'"
      ]
     },
     "execution_count": null,
     "metadata": {},
     "output_type": "execute_result"
    }
   ],
   "source": [
    "def module2path(module:str) -> str:\n",
    "    \"replaces the python module '.' seperator with os specific path seperator\"\n",
    "    return os.path.sep.join(module.split('.'))\n",
    "module2path('test.abc')"
   ]
  },
  {
   "cell_type": "code",
   "execution_count": null,
   "metadata": {},
   "outputs": [],
   "source": [
    "# export\n",
    "def _notebook2script(fname, silent=False):\n",
    "    fname = Path(fname)\n",
    "    print(fname.name)\n",
    "    nb = read_nb(fname)\n",
    "    cells = nb['cells']\n",
    "    C = Config()\n",
    "    sep = '\\n' * (max(int(C.get('cell_spacing', 1)), 0) + 1)\n",
    "    for cell in cells:\n",
    "        # scan for\n",
    "        # default_exp\n",
    "        # export\n",
    "        # hide\n",
    "        # put all the stuff in datastructure, which should be thread safe\n",
    "        pass"
   ]
  },
  {
   "cell_type": "code",
   "execution_count": null,
   "metadata": {},
   "outputs": [
    {
     "name": "stdout",
     "output_type": "stream",
     "text": [
      "00_export.ipynb\n",
      "01_export_v2.ipynb\n",
      "02_export_v3.ipynb\n",
      "02_helpers.ipynb\n",
      "99_index.ipynb\n",
      "lalalala.ipynb\n"
     ]
    },
    {
     "data": {
      "text/plain": [
       "[None, None, None, None, None, None]"
      ]
     },
     "execution_count": null,
     "metadata": {},
     "output_type": "execute_result"
    }
   ],
   "source": [
    "def notebook2script(fname=None, silent=False, to_dict=False):\n",
    "    # init target module directory\n",
    "    init_lib()\n",
    "    files = crawl_nbs(fname)\n",
    "    exports = []\n",
    "    for file in files:\n",
    "        exports.append(_notebook2script(file, silent))\n",
    "    # merge_exports(exports)\n",
    "    # if fname is a file, convert only that file, if possible.\n",
    "    # if its None, use Config() directory\n",
    "    # if its a directory,\n",
    "        # crawl source directory recursively to find all files that should be converted\n",
    "    # create thread/process pool for processing all files in parallel\n",
    "    # execute compilation on each of the files, resulting in a dataformat representing the converted file.\n",
    "    # merge all files, based on cross-exporting stored in dataformat\n",
    "    # TODO: handle cross-exporting if the targeted file already exists, but wasn't compiled from scratch\n",
    "    # probably should force a recompile of that file as well\n",
    "    # write files to disk\n",
    "    return exports\n",
    "notebook2script()"
   ]
  }
 ],
 "metadata": {
  "kernelspec": {
   "display_name": "Python 3",
   "language": "python",
   "name": "python3"
  }
 },
 "nbformat": 4,
 "nbformat_minor": 4
}
