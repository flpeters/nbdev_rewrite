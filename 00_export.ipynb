{
 "cells": [
  {
   "cell_type": "markdown",
   "metadata": {},
   "source": [
    "# Parsing Names"
   ]
  },
  {
   "cell_type": "code",
   "execution_count": 1,
   "metadata": {},
   "outputs": [],
   "source": [
    "import ast\n",
    "import _ast\n",
    "from pprint import pprint"
   ]
  },
  {
   "cell_type": "code",
   "execution_count": 2,
   "metadata": {},
   "outputs": [],
   "source": [
    "def print_tree(node):\n",
    "    if isinstance(node, (list, tuple)):\n",
    "        for x in node:\n",
    "            print_tree(x)\n",
    "    elif hasattr(node, '_fields'):\n",
    "        for f in node._fields:\n",
    "            # print(f)\n",
    "            print_tree(node.__getattribute__(f))\n",
    "    else:\n",
    "        print(node)\n",
    "        # pass"
   ]
  },
  {
   "cell_type": "code",
   "execution_count": 3,
   "metadata": {},
   "outputs": [],
   "source": [
    "def run_tests(cases):\n",
    "    tp = TestParser()\n",
    "    for i, (n, c, r) in enumerate(cases):\n",
    "        print(f'({i + 1} / {len(cases)}) TEST {n}:')\n",
    "        try:\n",
    "            tree = ast.parse(c)\n",
    "            res = tp.visit(tree)\n",
    "            if res == r:\n",
    "                print(f'TEST RESULT: SUCCESS\\n')\n",
    "            else:\n",
    "                raise Exception(f'TEST FAILED WITH RESULT: {res}\\nEXPECTED: {r}')\n",
    "        except Exception as e:\n",
    "            print(f'TEST RESULT:\\n{e}\\n')\n",
    "            # raise e\n",
    "    print('--------------- ALL TESTS COMPLETED ---------------')"
   ]
  },
  {
   "cell_type": "code",
   "execution_count": 4,
   "metadata": {},
   "outputs": [],
   "source": [
    "class TestParser(ast.NodeVisitor):\n",
    "    def visit(self, node):\n",
    "        \"\"\"Visit a node.\"\"\"\n",
    "        method = 'visit_' + node.__class__.__name__\n",
    "        visitor = getattr(self, method, self.generic_visit)\n",
    "        print(f'{node.__class__.__name__} -> {visitor.__name__}')\n",
    "        return visitor(node)\n",
    "    \n",
    "    def _default(self, node):\n",
    "        # pprint(node.__dict__)\n",
    "        print(f'attr:   {node._attributes}')\n",
    "        print(f'fields: {node._fields}')\n",
    "        print('-'*25)\n",
    "        \n",
    "    def visit_Assign(self, node):\n",
    "        self._default(node)\n",
    "    \n",
    "    def visit_FunctionDef(self, node):\n",
    "        self._default(node)\n",
    "        for d in node.decorator_list:\n",
    "            print(self.visit(d))\n",
    "            \n",
    "    def visit_ClassDef(self, node):\n",
    "        self._default(node)"
   ]
  },
  {
   "cell_type": "markdown",
   "metadata": {
    "heading_collapsed": true
   },
   "source": [
    "## Tests"
   ]
  },
  {
   "cell_type": "raw",
   "metadata": {
    "hidden": true
   },
   "source": [
    "('', \"\"\"\n",
    "\n",
    "\"\"\", None),"
   ]
  },
  {
   "cell_type": "code",
   "execution_count": 5,
   "metadata": {
    "hidden": true
   },
   "outputs": [
    {
     "name": "stdout",
     "output_type": "stream",
     "text": [
      "(1 / 6) TEST Default Assignment:\n",
      "Module -> generic_visit\n",
      "Assign -> visit_Assign\n",
      "attr:   ('lineno', 'col_offset')\n",
      "fields: ('targets', 'value')\n",
      "-------------------------\n",
      "Assign -> visit_Assign\n",
      "attr:   ('lineno', 'col_offset')\n",
      "fields: ('targets', 'value')\n",
      "-------------------------\n",
      "Assign -> visit_Assign\n",
      "attr:   ('lineno', 'col_offset')\n",
      "fields: ('targets', 'value')\n",
      "-------------------------\n",
      "TEST RESULT: SUCCESS\n",
      "\n",
      "(2 / 6) TEST Tuple unpacking:\n",
      "Module -> generic_visit\n",
      "Assign -> visit_Assign\n",
      "attr:   ('lineno', 'col_offset')\n",
      "fields: ('targets', 'value')\n",
      "-------------------------\n",
      "TEST RESULT: SUCCESS\n",
      "\n",
      "(3 / 6) TEST unpacking to tuples and lists:\n",
      "Module -> generic_visit\n",
      "Assign -> visit_Assign\n",
      "attr:   ('lineno', 'col_offset')\n",
      "fields: ('targets', 'value')\n",
      "-------------------------\n",
      "Assign -> visit_Assign\n",
      "attr:   ('lineno', 'col_offset')\n",
      "fields: ('targets', 'value')\n",
      "-------------------------\n",
      "TEST RESULT: SUCCESS\n",
      "\n",
      "(4 / 6) TEST Multiple assignments:\n",
      "Module -> generic_visit\n",
      "Assign -> visit_Assign\n",
      "attr:   ('lineno', 'col_offset')\n",
      "fields: ('targets', 'value')\n",
      "-------------------------\n",
      "TEST RESULT: SUCCESS\n",
      "\n",
      "(5 / 6) TEST List Deconstruction:\n",
      "Module -> generic_visit\n",
      "Assign -> visit_Assign\n",
      "attr:   ('lineno', 'col_offset')\n",
      "fields: ('targets', 'value')\n",
      "-------------------------\n",
      "TEST RESULT: SUCCESS\n",
      "\n",
      "(6 / 6) TEST Private Variables:\n",
      "Module -> generic_visit\n",
      "Assign -> visit_Assign\n",
      "attr:   ('lineno', 'col_offset')\n",
      "fields: ('targets', 'value')\n",
      "-------------------------\n",
      "TEST RESULT: SUCCESS\n",
      "\n",
      "--------------- ALL TESTS COMPLETED ---------------\n"
     ]
    }
   ],
   "source": [
    "test_assignment = [\n",
    "('Default Assignment', \"\"\"\n",
    "a = 1\n",
    "b = a\n",
    "a = 2\n",
    "\"\"\", None),\n",
    "('Tuple unpacking', \"\"\"\n",
    "a, b = (1, 2)\n",
    "\"\"\", None),\n",
    "('unpacking to tuples and lists', \"\"\"\n",
    "(a, b) = (1, 2)\n",
    "[a, b] = (1, 2)\n",
    "\"\"\", None),\n",
    "('Multiple assignments', \"\"\"\n",
    "a = b = 2\n",
    "\"\"\", None),\n",
    "('List Deconstruction', \"\"\"\n",
    "head, *tail = [1,2,3,4,5]\n",
    "\"\"\", None),\n",
    "('Private Variables', \"\"\"\n",
    "_a = 1\n",
    "\"\"\", None),\n",
    "]\n",
    "run_tests(test_assignment)"
   ]
  },
  {
   "cell_type": "raw",
   "metadata": {
    "hidden": true
   },
   "source": [
    "('', \"\"\"\n",
    "\n",
    "\"\"\", None),"
   ]
  },
  {
   "cell_type": "code",
   "execution_count": 6,
   "metadata": {
    "hidden": true
   },
   "outputs": [
    {
     "name": "stdout",
     "output_type": "stream",
     "text": [
      "(1 / 4) TEST Default function definition:\n",
      "Module -> generic_visit\n",
      "FunctionDef -> visit_FunctionDef\n",
      "attr:   ('lineno', 'col_offset')\n",
      "fields: ('name', 'args', 'body', 'decorator_list', 'returns')\n",
      "-------------------------\n",
      "TEST RESULT: SUCCESS\n",
      "\n",
      "(2 / 4) TEST Type Annotated function def:\n",
      "Module -> generic_visit\n",
      "FunctionDef -> visit_FunctionDef\n",
      "attr:   ('lineno', 'col_offset')\n",
      "fields: ('name', 'args', 'body', 'decorator_list', 'returns')\n",
      "-------------------------\n",
      "TEST RESULT: SUCCESS\n",
      "\n",
      "(3 / 4) TEST function decorators:\n",
      "Module -> generic_visit\n",
      "FunctionDef -> visit_FunctionDef\n",
      "attr:   ('lineno', 'col_offset')\n",
      "fields: ('name', 'args', 'body', 'decorator_list', 'returns')\n",
      "-------------------------\n",
      "Name -> generic_visit\n",
      "Load -> generic_visit\n",
      "None\n",
      "Name -> generic_visit\n",
      "Load -> generic_visit\n",
      "None\n",
      "TEST RESULT: SUCCESS\n",
      "\n",
      "(4 / 4) TEST @patch and more complex type annotations:\n",
      "Module -> generic_visit\n",
      "FunctionDef -> visit_FunctionDef\n",
      "attr:   ('lineno', 'col_offset')\n",
      "fields: ('name', 'args', 'body', 'decorator_list', 'returns')\n",
      "-------------------------\n",
      "Name -> generic_visit\n",
      "Load -> generic_visit\n",
      "None\n",
      "TEST RESULT: SUCCESS\n",
      "\n",
      "--------------- ALL TESTS COMPLETED ---------------\n"
     ]
    }
   ],
   "source": [
    "test_funcdef = [\n",
    "('Default function definition', \"\"\"\n",
    "def add(a, b):\n",
    "    return a + b\n",
    "\"\"\", None),\n",
    "('Type Annotated function def', \"\"\"\n",
    "def calc(a:int, b:int) -> int:\n",
    "    c:float = 2.0\n",
    "    return (a + b) * c\n",
    "\"\"\", None),\n",
    "('function decorators', \"\"\"\n",
    "@test1\n",
    "@test2\n",
    "def add(a, b):\n",
    "    return a + b\n",
    "\"\"\", None),\n",
    "('@patch and more complex type annotations', \"\"\"\n",
    "@patch\n",
    "def func (obj:(Class1, Class2), a:int)->int:\n",
    "    pass\n",
    "\"\"\", None)\n",
    "]\n",
    "run_tests(test_funcdef)"
   ]
  },
  {
   "cell_type": "raw",
   "metadata": {
    "hidden": true
   },
   "source": [
    "('', \"\"\"\n",
    "\n",
    "\"\"\", None),"
   ]
  },
  {
   "cell_type": "code",
   "execution_count": 7,
   "metadata": {
    "hidden": true
   },
   "outputs": [
    {
     "name": "stdout",
     "output_type": "stream",
     "text": [
      "(1 / 2) TEST Default class definition:\n",
      "Module -> generic_visit\n",
      "ClassDef -> visit_ClassDef\n",
      "attr:   ('lineno', 'col_offset')\n",
      "fields: ('name', 'bases', 'keywords', 'body', 'decorator_list')\n",
      "-------------------------\n",
      "TEST RESULT: SUCCESS\n",
      "\n",
      "(2 / 2) TEST Default class def 2:\n",
      "Module -> generic_visit\n",
      "ClassDef -> visit_ClassDef\n",
      "attr:   ('lineno', 'col_offset')\n",
      "fields: ('name', 'bases', 'keywords', 'body', 'decorator_list')\n",
      "-------------------------\n",
      "TEST RESULT: SUCCESS\n",
      "\n",
      "--------------- ALL TESTS COMPLETED ---------------\n"
     ]
    }
   ],
   "source": [
    "test_classdef = [\n",
    "('Default class definition', \"\"\"\n",
    "class Abc:\n",
    "    pass\n",
    "\"\"\", None),\n",
    "('Default class def 2', \"\"\"\n",
    "class Abc():\n",
    "    pass\n",
    "\"\"\", None),\n",
    "]\n",
    "run_tests(test_classdef)"
   ]
  },
  {
   "cell_type": "markdown",
   "metadata": {},
   "source": [
    "# Markup Comments"
   ]
  },
  {
   "cell_type": "code",
   "execution_count": 8,
   "metadata": {},
   "outputs": [],
   "source": [
    "import re"
   ]
  },
  {
   "cell_type": "code",
   "execution_count": 9,
   "metadata": {},
   "outputs": [],
   "source": [
    "def run_markup_tests(cases):\n",
    "    for i, (n, c, r) in enumerate(cases):\n",
    "        print(f'({i + 1} / {len(cases)}) TEST {n}:')\n",
    "        try:\n",
    "            res = parse_markup(c)\n",
    "            assert res == r, f'TEST FAILED WITH RESULT: {res}\\nEXPECTED: {r}'\n",
    "            print(f'TEST RESULT: SUCCESS\\n')\n",
    "        except Exception as e:\n",
    "            print(f'TEST FAILED WITH EXCEPTION:\\n{e}\\n')\n",
    "            # raise e\n",
    "    print('--------------- ALL TESTS COMPLETED ---------------')"
   ]
  },
  {
   "cell_type": "markdown",
   "metadata": {
    "heading_collapsed": true
   },
   "source": [
    "## regex"
   ]
  },
  {
   "cell_type": "code",
   "execution_count": 10,
   "metadata": {
    "hidden": true
   },
   "outputs": [],
   "source": [
    "def keywords_to_pattern(keywords):\n",
    "    def _parse(kw, sw):\n",
    "        return f'({kw}.*)'\n",
    "#         if len(sw) == 0: return f'({kw})'\n",
    "#         elif len(sw) == 1: return fr'({kw}(?:\\s+-{sw[0]})*)'\n",
    "#         else: return fr'({kw}(?:\\s+-[{\"|\".join(sw)}])*)'\n",
    "    \n",
    "    if len(keywords) > 0:\n",
    "        return '\\n|'.join([_parse(kw, sw) for kw, [*sw] in keywords])"
   ]
  },
  {
   "cell_type": "code",
   "execution_count": 11,
   "metadata": {
    "hidden": true
   },
   "outputs": [],
   "source": [
    "keywords = [('export', ['s', 'i', 'ss']),\n",
    "            ('hide', []),\n",
    "            ('default_exp', ['\\S*'])]"
   ]
  },
  {
   "cell_type": "code",
   "execution_count": 12,
   "metadata": {
    "hidden": true
   },
   "outputs": [
    {
     "name": "stdout",
     "output_type": "stream",
     "text": [
      "\n",
      "^       # start of line, since MULTILINE is passed\n",
      "\\s*     # any amount of whitespace\n",
      "\\#\\s*   # literal \"#\", then any amount of whitespace\n",
      "(export.*)\n",
      "|(hide.*)\n",
      "|(default_exp.*)\n",
      "\\s*     # any amount of whitespace\n",
      "$       # end of line, since MULTILINE is passed\n",
      "\n"
     ]
    }
   ],
   "source": [
    "pattern = fr\"\"\"\n",
    "^       # start of line, since MULTILINE is passed\n",
    "\\s*     # any amount of whitespace\n",
    "\\#\\s*   # literal \"#\", then any amount of whitespace\n",
    "{keywords_to_pattern(keywords)}\n",
    "\\s*     # any amount of whitespace\n",
    "$       # end of line, since MULTILINE is passed\n",
    "\"\"\"\n",
    "print(pattern)\n",
    "_re_markup = re.compile(pattern, re.IGNORECASE | re.MULTILINE | re.VERBOSE)"
   ]
  },
  {
   "cell_type": "code",
   "execution_count": 13,
   "metadata": {
    "hidden": true
   },
   "outputs": [
    {
     "data": {
      "text/plain": [
       "('export', None, None)"
      ]
     },
     "execution_count": 13,
     "metadata": {},
     "output_type": "execute_result"
    }
   ],
   "source": [
    "_re_markup.search('# export').groups()"
   ]
  },
  {
   "cell_type": "code",
   "execution_count": 14,
   "metadata": {
    "hidden": true
   },
   "outputs": [],
   "source": [
    "def parse_markup(cell):\n",
    "    res = _re_markup.search(cell)\n",
    "    if res: return res.groups()\n",
    "    else: return None"
   ]
  },
  {
   "cell_type": "markdown",
   "metadata": {},
   "source": [
    "## other version"
   ]
  },
  {
   "cell_type": "code",
   "execution_count": 15,
   "metadata": {},
   "outputs": [],
   "source": [
    "def one_of(options): return '|'.join(options)"
   ]
  },
  {
   "cell_type": "code",
   "execution_count": 77,
   "metadata": {},
   "outputs": [],
   "source": [
    "class KeywordParser:\n",
    "    def __init__(self):\n",
    "        self.parsers = {}\n",
    "        \n",
    "    \n",
    "    def _create_parser(self, keyword):\n",
    "        pattern = fr\"\"\"\n",
    "        ^              # start of line, since MULTILINE is passed\n",
    "        \\s*            # any amount of whitespace\n",
    "        \\#\\s*          # literal \"#\", then any amount of whitespace\n",
    "        ({keyword}.*)  # keyword followed by arbitrary symbols (except new line)\n",
    "        $              # end of line, since MULTILINE is passed\n",
    "        \"\"\"\n",
    "        return re.compile(pattern, re.IGNORECASE | re.MULTILINE | re.VERBOSE)\n",
    "        \n",
    "    def __getitem__(self, key):\n",
    "        if key in self.parsers: return self.parsers[key]\n",
    "        else:\n",
    "            parser = self._create_parser(key)\n",
    "            self.parsers[key] = parser\n",
    "            return parser"
   ]
  },
  {
   "cell_type": "code",
   "execution_count": 78,
   "metadata": {},
   "outputs": [],
   "source": [
    "KWP = KeywordParser()"
   ]
  },
  {
   "cell_type": "code",
   "execution_count": 79,
   "metadata": {},
   "outputs": [
    {
     "data": {
      "text/plain": [
       "re.compile(r'\\n        ^              # start of line, since MULTILINE is passed\\n        \\s*            # any amount of whitespace\\n        \\#\\s*          # literal \"#\", then any amount of whitespace\\n        (export.*)  # keyword followed by arbitrary symbols (except new line)\\n        $              # end of line, since MULTILINE is passed\\n        ',\n",
       "re.IGNORECASE|re.MULTILINE|re.UNICODE|re.VERBOSE)"
      ]
     },
     "execution_count": 79,
     "metadata": {},
     "output_type": "execute_result"
    }
   ],
   "source": [
    "KWP['export']"
   ]
  },
  {
   "cell_type": "code",
   "execution_count": 80,
   "metadata": {},
   "outputs": [
    {
     "data": {
      "text/plain": [
       "{'export': re.compile(r'\\n        ^              # start of line, since MULTILINE is passed\\n        \\s*            # any amount of whitespace\\n        \\#\\s*          # literal \"#\", then any amount of whitespace\\n        (export.*)  # keyword followed by arbitrary symbols (except new line)\\n        $              # end of line, since MULTILINE is passed\\n        ',\n",
       " re.IGNORECASE|re.MULTILINE|re.UNICODE|re.VERBOSE)}"
      ]
     },
     "execution_count": 80,
     "metadata": {},
     "output_type": "execute_result"
    }
   ],
   "source": [
    "KWP.parsers"
   ]
  },
  {
   "cell_type": "code",
   "execution_count": null,
   "metadata": {},
   "outputs": [],
   "source": [
    "mutually_exclusive_keywords = ['export', 'hide', 'show']"
   ]
  },
  {
   "cell_type": "code",
   "execution_count": 45,
   "metadata": {},
   "outputs": [],
   "source": [
    "KWP = KeywordParser()\n",
    "def parse_markup(cell):\n",
    "    to_export = dict()\n",
    "    res = _re_markup.search(cell)\n",
    "    for (kw, sw) in keywords:\n",
    "        res = KWP[kw].search(cell)\n",
    "        \n",
    "    if res:\n",
    "        groups = res.groups()\n",
    "        for (kw, sw), found in zip(keywords, groups):\n",
    "            print(f'{kw} | {found} | {kw == found}')\n",
    "            if bool(found):\n",
    "                assert found.startswith(kw), f'keyword does not equal regex result: {kw} != {found}'\n",
    "                #found = normalize_whitespace(found)\n",
    "                #found = found.split()\n",
    "                #options_for_cell = parse_keyword(found, kw, sw)\n",
    "                \n",
    "                #return options_for_cell\n",
    "        return groups\n",
    "    else: return None"
   ]
  },
  {
   "cell_type": "code",
   "execution_count": null,
   "metadata": {},
   "outputs": [],
   "source": [
    "def parse_markup(cells:list, KWP:KeywordParser) -> list:\n",
    "    "
   ]
  },
  {
   "cell_type": "markdown",
   "metadata": {},
   "source": [
    "## Tests"
   ]
  },
  {
   "cell_type": "raw",
   "metadata": {},
   "source": [
    "('', \"\"\"\n",
    "\n",
    "\"\"\", None),"
   ]
  },
  {
   "cell_type": "code",
   "execution_count": 46,
   "metadata": {},
   "outputs": [
    {
     "name": "stdout",
     "output_type": "stream",
     "text": [
      "(1 / 11) TEST export:\n",
      "export | export | True\n",
      "TEST FAILED WITH EXCEPTION:\n",
      "TEST FAILED WITH RESULT: ('export',)\n",
      "EXPECTED: (1, 1, 1, 0)\n",
      "\n",
      "(2 / 11) TEST export internal:\n",
      "export | export -i | False\n",
      "TEST FAILED WITH EXCEPTION:\n",
      "TEST FAILED WITH RESULT: ('export -i',)\n",
      "EXPECTED: (1, 0, 0, 0)\n",
      "\n",
      "(3 / 11) TEST export show source:\n",
      "export | export -s | False\n",
      "TEST FAILED WITH EXCEPTION:\n",
      "TEST FAILED WITH RESULT: ('export -s',)\n",
      "EXPECTED: (1, 1, 1, 1)\n",
      "\n",
      "(4 / 11) TEST export internal show:\n",
      "export | export -i -s | False\n",
      "TEST FAILED WITH EXCEPTION:\n",
      "TEST FAILED WITH RESULT: ('export -i -s',)\n",
      "EXPECTED: (1, 0, 1, 1)\n",
      "\n",
      "(5 / 11) TEST default empty:\n",
      "TEST RESULT: SUCCESS\n",
      "\n",
      "(6 / 11) TEST hide:\n",
      "TEST FAILED WITH EXCEPTION:\n",
      "TEST FAILED WITH RESULT: None\n",
      "EXPECTED: (0, 0, 0, 0)\n",
      "\n",
      "(7 / 11) TEST layout 1:\n",
      "export | export | True\n",
      "TEST FAILED WITH EXCEPTION:\n",
      "TEST FAILED WITH RESULT: ('export',)\n",
      "EXPECTED: (1, 1, 1, 0)\n",
      "\n",
      "(8 / 11) TEST layout 2:\n",
      "export | export | True\n",
      "TEST FAILED WITH EXCEPTION:\n",
      "TEST FAILED WITH RESULT: ('export',)\n",
      "EXPECTED: (1, 1, 1, 0)\n",
      "\n",
      "(9 / 11) TEST multiple comments:\n",
      "export | export | True\n",
      "TEST FAILED WITH EXCEPTION:\n",
      "TEST FAILED WITH RESULT: ('export',)\n",
      "EXPECTED: None\n",
      "\n",
      "(10 / 11) TEST multi comment same line:\n",
      "export | export hide | False\n",
      "TEST FAILED WITH EXCEPTION:\n",
      "TEST FAILED WITH RESULT: ('export hide',)\n",
      "EXPECTED: None\n",
      "\n",
      "(11 / 11) TEST multiple comments default_exp:\n",
      "export | export | True\n",
      "TEST FAILED WITH EXCEPTION:\n",
      "TEST FAILED WITH RESULT: ('export',)\n",
      "EXPECTED: None\n",
      "\n",
      "--------------- ALL TESTS COMPLETED ---------------\n"
     ]
    }
   ],
   "source": [
    "test_markup = [\n",
    "('export', \"\"\"\n",
    "# export\n",
    "\"\"\", (1, 1, 1, 0)),\n",
    "('export internal', \"\"\"\n",
    "# export -i\n",
    "\"\"\", (1, 0, 0, 0)),\n",
    "('export show source', \"\"\"\n",
    "# export -s\n",
    "\"\"\", (1, 1, 1, 1)),\n",
    "('export internal show', \"\"\"\n",
    "# export -i -s\n",
    "\"\"\", (1, 0, 1, 1)),\n",
    "('default empty', \"\"\"\n",
    "\n",
    "\"\"\", None),\n",
    "('hide', \"\"\"\n",
    "# hide\n",
    "\"\"\", (0, 0, 0, 0)),\n",
    "('layout 1', \"\"\"\n",
    "#export\n",
    "\"\"\", (1, 1, 1, 0)),\n",
    "('layout 2', \"\"\"\n",
    " # export\n",
    "\"\"\", (1, 1, 1, 0)),\n",
    "('multiple comments', \"\"\"\n",
    "# export\n",
    "# hide\n",
    "\"\"\", None),\n",
    "('multi comment same line', \"\"\"\n",
    "# export hide\n",
    "\"\"\", None),\n",
    "('multiple comments default_exp', \"\"\"\n",
    "# export\n",
    "# default_exp\n",
    "\"\"\", None),\n",
    "]\n",
    "run_markup_tests(test_markup)"
   ]
  },
  {
   "cell_type": "code",
   "execution_count": 262,
   "metadata": {},
   "outputs": [
    {
     "data": {
      "text/plain": [
       "((1, 1, 1, 1),)"
      ]
     },
     "execution_count": 262,
     "metadata": {},
     "output_type": "execute_result"
    }
   ],
   "source": [
    "(0, 0, 0, 0), # -> # hide\n",
    "(0, 0, 1, 0), # -> nothing (default)\n",
    "(0, 0, 1, 1), # -> # show source\n",
    "(1, 0, 0, 0), # -> # export internal\n",
    "(1, 0, 1, 0), # -> # export internal show\n",
    "(1, 0, 1, 1), # -> # export internal show source\n",
    "(1, 1, 0, 0), # -> # export hide\n",
    "(1, 1, 1, 0), # -> # export\n",
    "(1, 1, 1, 1), # -> # export show source"
   ]
  },
  {
   "cell_type": "markdown",
   "metadata": {},
   "source": [
    "# Export"
   ]
  },
  {
   "cell_type": "code",
   "execution_count": 155,
   "metadata": {},
   "outputs": [],
   "source": [
    "from collections import namedtuple, defaultdict"
   ]
  },
  {
   "cell_type": "code",
   "execution_count": 217,
   "metadata": {},
   "outputs": [],
   "source": [
    "class ExportCache:\n",
    "    def __init__(self, default_export=None):\n",
    "        self.tupletype = namedtuple(typename='exports', field_names=['export_code', 'export_names'])\n",
    "        self.exports = defaultdict(self._create_exp)\n",
    "        if default_export is not None: self[default_export]\n",
    "    \n",
    "    def _create_exp(self): return self.tupletype(export_code=list(), export_names=set())\n",
    "    \n",
    "    def __getitem__(self, key): return self.exports[key]\n",
    "    \n",
    "    def add_names(self, key, names):\n",
    "        target = self[key].export_names\n",
    "        for name in names: target.add(name)\n",
    "            \n",
    "    def add_code(self, key, code): self[key].export_code.append(code)"
   ]
  },
  {
   "cell_type": "code",
   "execution_count": 221,
   "metadata": {},
   "outputs": [],
   "source": [
    "def find_default_export(cells:list) -> str:\n",
    "    # search through all cells to find the default_exp keyword and return it's value.\n",
    "    # syntax checking\n",
    "    # maybe do some sanity checking\n",
    "    pass"
   ]
  },
  {
   "cell_type": "code",
   "execution_count": 227,
   "metadata": {},
   "outputs": [],
   "source": [
    "def create_mod_file(orig_nbfname, targ_pyfname):\n",
    "    # create the .py file in the correct folder, with a header saying where it was originally from\n",
    "    pass"
   ]
  },
  {
   "cell_type": "code",
   "execution_count": 222,
   "metadata": {},
   "outputs": [],
   "source": [
    "def find_exports(cells:list, default:str) -> list:\n",
    "    # check for each cell if it's supposed to be exported and aggregate cell content together with export options\n",
    "    # remove whitespace at end of lines\n",
    "    pass"
   ]
  },
  {
   "cell_type": "code",
   "execution_count": 226,
   "metadata": {},
   "outputs": [],
   "source": [
    "def find_names(code:str) -> list:\n",
    "    # find function and variable names in this code block\n",
    "    # find _all_ declarations\n",
    "    pass"
   ]
  },
  {
   "cell_type": "code",
   "execution_count": 228,
   "metadata": {},
   "outputs": [],
   "source": [
    "def notebook2script(cells, fname=None, silent=False, to_dict=False):\n",
    "    if cells: print('cells is only used for testing purposes!')\n",
    "    if fname is not None: raise NotImplementedError('fname is a \"must pass\", but not yet')\n",
    "    # load notebook content\n",
    "    # load config\n",
    "    default = find_default_export(cells)\n",
    "    if default is None:\n",
    "        print('WARNING: No default export file found! (should this crash, or see if each export has its own target?)')\n",
    "    else:\n",
    "        # maybe this should be done at the bottom, together with all the others\n",
    "        # create_mod_file(original_nbfile_path, target_pyfile_path) # flipped in original code\n",
    "        pass\n",
    "    export_cache = ExportCache(default)\n",
    "    # load _nbdev file and create a spec from it (no idea why this is needed)\n",
    "    exports = find_exports(cells, default)\n",
    "    for i, (code, internal, export_target)  in enumerate(exports):\n",
    "        # code = clean_code(code)\n",
    "        if not internal: export_cache.add_names(export_target, find_names(code))\n",
    "        export_cache.add_code(export_target, code)\n",
    "    write_to_export_files(export_cache, default)\n",
    "    # add names to _nbdev index\n",
    "    # write code cell to file\n",
    "    # save _nbdev file\n",
    "    pass"
   ]
  }
 ],
 "metadata": {
  "kernelspec": {
   "display_name": "Python 3",
   "language": "python",
   "name": "python3"
  },
  "language_info": {
   "codemirror_mode": {
    "name": "ipython",
    "version": 3
   },
   "file_extension": ".py",
   "mimetype": "text/x-python",
   "name": "python",
   "nbconvert_exporter": "python",
   "pygments_lexer": "ipython3",
   "version": "3.7.3"
  },
  "toc": {
   "base_numbering": 1,
   "nav_menu": {},
   "number_sections": true,
   "sideBar": true,
   "skip_h1_title": false,
   "title_cell": "Table of Contents",
   "title_sidebar": "Contents",
   "toc_cell": false,
   "toc_position": {},
   "toc_section_display": true,
   "toc_window_display": false
  }
 },
 "nbformat": 4,
 "nbformat_minor": 4
}
