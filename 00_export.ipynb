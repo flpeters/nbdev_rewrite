{
 "cells": [
  {
   "cell_type": "code",
   "execution_count": 1,
   "metadata": {},
   "outputs": [],
   "source": [
    "from collections import namedtuple, defaultdict"
   ]
  },
  {
   "cell_type": "code",
   "execution_count": 5,
   "metadata": {},
   "outputs": [],
   "source": [
    "import os"
   ]
  },
  {
   "cell_type": "markdown",
   "metadata": {},
   "source": [
    "# Init"
   ]
  },
  {
   "cell_type": "code",
   "execution_count": 7,
   "metadata": {},
   "outputs": [],
   "source": [
    "from nbdev.imports import *"
   ]
  },
  {
   "cell_type": "code",
   "execution_count": 8,
   "metadata": {},
   "outputs": [],
   "source": [
    "create_config('nbdev-rewrite', 'flpeters')"
   ]
  },
  {
   "cell_type": "code",
   "execution_count": 9,
   "metadata": {},
   "outputs": [],
   "source": [
    "if not os.environ.get(\"IN_TEST\", None):\n",
    "    assert IN_NOTEBOOK\n",
    "    assert not IN_COLAB\n",
    "    assert IN_IPYTHON"
   ]
  },
  {
   "cell_type": "markdown",
   "metadata": {},
   "source": [
    "# Notebook Loading"
   ]
  },
  {
   "cell_type": "code",
   "execution_count": 10,
   "metadata": {},
   "outputs": [],
   "source": [
    "#export\n",
    "def read_nb(fname):\n",
    "    \"Read the notebook in `fname`.\"\n",
    "    with open(Path(fname),'r', encoding='utf8') as f: return nbformat.reads(f.read(), as_version=4)"
   ]
  },
  {
   "cell_type": "code",
   "execution_count": 11,
   "metadata": {},
   "outputs": [],
   "source": [
    "test_nb = read_nb('00_export.ipynb')"
   ]
  },
  {
   "cell_type": "code",
   "execution_count": 12,
   "metadata": {},
   "outputs": [
    {
     "data": {
      "text/plain": [
       "dict_keys(['cells', 'metadata', 'nbformat', 'nbformat_minor'])"
      ]
     },
     "execution_count": 12,
     "metadata": {},
     "output_type": "execute_result"
    }
   ],
   "source": [
    "test_nb.keys()"
   ]
  },
  {
   "cell_type": "code",
   "execution_count": 13,
   "metadata": {},
   "outputs": [
    {
     "data": {
      "text/plain": [
       "{'kernelspec': {'display_name': 'Python 3',\n",
       "  'language': 'python',\n",
       "  'name': 'python3'},\n",
       " 'language_info': {'codemirror_mode': {'name': 'ipython', 'version': 3},\n",
       "  'file_extension': '.py',\n",
       "  'mimetype': 'text/x-python',\n",
       "  'name': 'python',\n",
       "  'nbconvert_exporter': 'python',\n",
       "  'pygments_lexer': 'ipython3',\n",
       "  'version': '3.7.3'},\n",
       " 'toc': {'base_numbering': 1,\n",
       "  'nav_menu': {},\n",
       "  'number_sections': True,\n",
       "  'sideBar': True,\n",
       "  'skip_h1_title': False,\n",
       "  'title_cell': 'Table of Contents',\n",
       "  'title_sidebar': 'Contents',\n",
       "  'toc_cell': False,\n",
       "  'toc_position': {},\n",
       "  'toc_section_display': True,\n",
       "  'toc_window_display': False}}"
      ]
     },
     "execution_count": 13,
     "metadata": {},
     "output_type": "execute_result"
    }
   ],
   "source": [
    "test_nb['metadata']"
   ]
  },
  {
   "cell_type": "code",
   "execution_count": 14,
   "metadata": {},
   "outputs": [
    {
     "data": {
      "text/plain": [
       "'4.4'"
      ]
     },
     "execution_count": 14,
     "metadata": {},
     "output_type": "execute_result"
    }
   ],
   "source": [
    "f\"{test_nb['nbformat']}.{test_nb['nbformat_minor']}\""
   ]
  },
  {
   "cell_type": "code",
   "execution_count": 15,
   "metadata": {},
   "outputs": [
    {
     "data": {
      "text/plain": [
       "{'cell_type': 'code',\n",
       " 'execution_count': 73,\n",
       " 'metadata': {},\n",
       " 'outputs': [],\n",
       " 'source': 'from collections import namedtuple, defaultdict'}"
      ]
     },
     "execution_count": 15,
     "metadata": {},
     "output_type": "execute_result"
    }
   ],
   "source": [
    "test_nb['cells'][0]"
   ]
  },
  {
   "cell_type": "code",
   "execution_count": 16,
   "metadata": {},
   "outputs": [
    {
     "data": {
      "text/plain": [
       "60"
      ]
     },
     "execution_count": 16,
     "metadata": {},
     "output_type": "execute_result"
    }
   ],
   "source": [
    "len(test_nb['cells'])"
   ]
  },
  {
   "cell_type": "markdown",
   "metadata": {
    "heading_collapsed": true
   },
   "source": [
    "# Parsing Names"
   ]
  },
  {
   "cell_type": "code",
   "execution_count": 17,
   "metadata": {
    "hidden": true
   },
   "outputs": [],
   "source": [
    "import ast\n",
    "import _ast\n",
    "from pprint import pprint"
   ]
  },
  {
   "cell_type": "code",
   "execution_count": 18,
   "metadata": {
    "hidden": true
   },
   "outputs": [],
   "source": [
    "def print_tree(node):\n",
    "    if isinstance(node, (list, tuple)):\n",
    "        for x in node:\n",
    "            print_tree(x)\n",
    "    elif hasattr(node, '_fields'):\n",
    "        for f in node._fields:\n",
    "            # print(f)\n",
    "            print_tree(node.__getattribute__(f))\n",
    "    else:\n",
    "        print(node)\n",
    "        # pass"
   ]
  },
  {
   "cell_type": "code",
   "execution_count": 19,
   "metadata": {
    "hidden": true
   },
   "outputs": [],
   "source": [
    "def run_tests(cases):\n",
    "    tp = TestParser()\n",
    "    for i, (n, c, r) in enumerate(cases):\n",
    "        print(f'({i + 1} / {len(cases)}) TEST {n}:')\n",
    "        try:\n",
    "            tree = ast.parse(c)\n",
    "            res = tp.visit(tree)\n",
    "            if res == r:\n",
    "                print(f'TEST RESULT: SUCCESS\\n')\n",
    "            else:\n",
    "                raise Exception(f'TEST FAILED WITH RESULT: {res}\\nEXPECTED: {r}')\n",
    "        except Exception as e:\n",
    "            print(f'TEST RESULT:\\n{e}\\n')\n",
    "            # raise e\n",
    "    print('--------------- ALL TESTS COMPLETED ---------------')"
   ]
  },
  {
   "cell_type": "code",
   "execution_count": 20,
   "metadata": {
    "hidden": true
   },
   "outputs": [],
   "source": [
    "class TestParser(ast.NodeVisitor):\n",
    "    def visit(self, node):\n",
    "        \"\"\"Visit a node.\"\"\"\n",
    "        method = 'visit_' + node.__class__.__name__\n",
    "        visitor = getattr(self, method, self.generic_visit)\n",
    "        print(f'{node.__class__.__name__} -> {visitor.__name__}')\n",
    "        return visitor(node)\n",
    "    \n",
    "    def _default(self, node):\n",
    "        # pprint(node.__dict__)\n",
    "        print(f'attr:   {node._attributes}')\n",
    "        print(f'fields: {node._fields}')\n",
    "        print('-'*25)\n",
    "        \n",
    "    def visit_Assign(self, node):\n",
    "        self._default(node)\n",
    "    \n",
    "    def visit_FunctionDef(self, node):\n",
    "        self._default(node)\n",
    "        for d in node.decorator_list:\n",
    "            print(self.visit(d))\n",
    "            \n",
    "    def visit_ClassDef(self, node):\n",
    "        self._default(node)"
   ]
  },
  {
   "cell_type": "markdown",
   "metadata": {
    "heading_collapsed": true,
    "hidden": true
   },
   "source": [
    "## Tests"
   ]
  },
  {
   "cell_type": "raw",
   "metadata": {
    "hidden": true
   },
   "source": [
    "('', \"\"\"\n",
    "\n",
    "\"\"\", None),"
   ]
  },
  {
   "cell_type": "code",
   "execution_count": 21,
   "metadata": {
    "hidden": true
   },
   "outputs": [
    {
     "name": "stdout",
     "output_type": "stream",
     "text": [
      "(1 / 6) TEST Default Assignment:\n",
      "Module -> generic_visit\n",
      "Assign -> visit_Assign\n",
      "attr:   ('lineno', 'col_offset')\n",
      "fields: ('targets', 'value')\n",
      "-------------------------\n",
      "Assign -> visit_Assign\n",
      "attr:   ('lineno', 'col_offset')\n",
      "fields: ('targets', 'value')\n",
      "-------------------------\n",
      "Assign -> visit_Assign\n",
      "attr:   ('lineno', 'col_offset')\n",
      "fields: ('targets', 'value')\n",
      "-------------------------\n",
      "TEST RESULT: SUCCESS\n",
      "\n",
      "(2 / 6) TEST Tuple unpacking:\n",
      "Module -> generic_visit\n",
      "Assign -> visit_Assign\n",
      "attr:   ('lineno', 'col_offset')\n",
      "fields: ('targets', 'value')\n",
      "-------------------------\n",
      "TEST RESULT: SUCCESS\n",
      "\n",
      "(3 / 6) TEST unpacking to tuples and lists:\n",
      "Module -> generic_visit\n",
      "Assign -> visit_Assign\n",
      "attr:   ('lineno', 'col_offset')\n",
      "fields: ('targets', 'value')\n",
      "-------------------------\n",
      "Assign -> visit_Assign\n",
      "attr:   ('lineno', 'col_offset')\n",
      "fields: ('targets', 'value')\n",
      "-------------------------\n",
      "TEST RESULT: SUCCESS\n",
      "\n",
      "(4 / 6) TEST Multiple assignments:\n",
      "Module -> generic_visit\n",
      "Assign -> visit_Assign\n",
      "attr:   ('lineno', 'col_offset')\n",
      "fields: ('targets', 'value')\n",
      "-------------------------\n",
      "TEST RESULT: SUCCESS\n",
      "\n",
      "(5 / 6) TEST List Deconstruction:\n",
      "Module -> generic_visit\n",
      "Assign -> visit_Assign\n",
      "attr:   ('lineno', 'col_offset')\n",
      "fields: ('targets', 'value')\n",
      "-------------------------\n",
      "TEST RESULT: SUCCESS\n",
      "\n",
      "(6 / 6) TEST Private Variables:\n",
      "Module -> generic_visit\n",
      "Assign -> visit_Assign\n",
      "attr:   ('lineno', 'col_offset')\n",
      "fields: ('targets', 'value')\n",
      "-------------------------\n",
      "TEST RESULT: SUCCESS\n",
      "\n",
      "--------------- ALL TESTS COMPLETED ---------------\n"
     ]
    }
   ],
   "source": [
    "test_assignment = [\n",
    "('Default Assignment', \"\"\"\n",
    "a = 1\n",
    "b = a\n",
    "a = 2\n",
    "\"\"\", None),\n",
    "('Tuple unpacking', \"\"\"\n",
    "a, b = (1, 2)\n",
    "\"\"\", None),\n",
    "('unpacking to tuples and lists', \"\"\"\n",
    "(a, b) = (1, 2)\n",
    "[a, b] = (1, 2)\n",
    "\"\"\", None),\n",
    "('Multiple assignments', \"\"\"\n",
    "a = b = 2\n",
    "\"\"\", None),\n",
    "('List Deconstruction', \"\"\"\n",
    "head, *tail = [1,2,3,4,5]\n",
    "\"\"\", None),\n",
    "('Private Variables', \"\"\"\n",
    "_a = 1\n",
    "\"\"\", None),\n",
    "]\n",
    "run_tests(test_assignment)"
   ]
  },
  {
   "cell_type": "raw",
   "metadata": {
    "hidden": true
   },
   "source": [
    "('', \"\"\"\n",
    "\n",
    "\"\"\", None),"
   ]
  },
  {
   "cell_type": "code",
   "execution_count": 22,
   "metadata": {
    "hidden": true
   },
   "outputs": [
    {
     "name": "stdout",
     "output_type": "stream",
     "text": [
      "(1 / 4) TEST Default function definition:\n",
      "Module -> generic_visit\n",
      "FunctionDef -> visit_FunctionDef\n",
      "attr:   ('lineno', 'col_offset')\n",
      "fields: ('name', 'args', 'body', 'decorator_list', 'returns')\n",
      "-------------------------\n",
      "TEST RESULT: SUCCESS\n",
      "\n",
      "(2 / 4) TEST Type Annotated function def:\n",
      "Module -> generic_visit\n",
      "FunctionDef -> visit_FunctionDef\n",
      "attr:   ('lineno', 'col_offset')\n",
      "fields: ('name', 'args', 'body', 'decorator_list', 'returns')\n",
      "-------------------------\n",
      "TEST RESULT: SUCCESS\n",
      "\n",
      "(3 / 4) TEST function decorators:\n",
      "Module -> generic_visit\n",
      "FunctionDef -> visit_FunctionDef\n",
      "attr:   ('lineno', 'col_offset')\n",
      "fields: ('name', 'args', 'body', 'decorator_list', 'returns')\n",
      "-------------------------\n",
      "Name -> generic_visit\n",
      "Load -> generic_visit\n",
      "None\n",
      "Name -> generic_visit\n",
      "Load -> generic_visit\n",
      "None\n",
      "TEST RESULT: SUCCESS\n",
      "\n",
      "(4 / 4) TEST @patch and more complex type annotations:\n",
      "Module -> generic_visit\n",
      "FunctionDef -> visit_FunctionDef\n",
      "attr:   ('lineno', 'col_offset')\n",
      "fields: ('name', 'args', 'body', 'decorator_list', 'returns')\n",
      "-------------------------\n",
      "Name -> generic_visit\n",
      "Load -> generic_visit\n",
      "None\n",
      "TEST RESULT: SUCCESS\n",
      "\n",
      "--------------- ALL TESTS COMPLETED ---------------\n"
     ]
    }
   ],
   "source": [
    "test_funcdef = [\n",
    "('Default function definition', \"\"\"\n",
    "def add(a, b):\n",
    "    return a + b\n",
    "\"\"\", None),\n",
    "('Type Annotated function def', \"\"\"\n",
    "def calc(a:int, b:int) -> int:\n",
    "    c:float = 2.0\n",
    "    return (a + b) * c\n",
    "\"\"\", None),\n",
    "('function decorators', \"\"\"\n",
    "@test1\n",
    "@test2\n",
    "def add(a, b):\n",
    "    return a + b\n",
    "\"\"\", None),\n",
    "('@patch and more complex type annotations', \"\"\"\n",
    "@patch\n",
    "def func (obj:(Class1, Class2), a:int)->int:\n",
    "    pass\n",
    "\"\"\", None)\n",
    "]\n",
    "run_tests(test_funcdef)"
   ]
  },
  {
   "cell_type": "raw",
   "metadata": {
    "hidden": true
   },
   "source": [
    "('', \"\"\"\n",
    "\n",
    "\"\"\", None),"
   ]
  },
  {
   "cell_type": "code",
   "execution_count": 23,
   "metadata": {
    "hidden": true
   },
   "outputs": [
    {
     "name": "stdout",
     "output_type": "stream",
     "text": [
      "(1 / 2) TEST Default class definition:\n",
      "Module -> generic_visit\n",
      "ClassDef -> visit_ClassDef\n",
      "attr:   ('lineno', 'col_offset')\n",
      "fields: ('name', 'bases', 'keywords', 'body', 'decorator_list')\n",
      "-------------------------\n",
      "TEST RESULT: SUCCESS\n",
      "\n",
      "(2 / 2) TEST Default class def 2:\n",
      "Module -> generic_visit\n",
      "ClassDef -> visit_ClassDef\n",
      "attr:   ('lineno', 'col_offset')\n",
      "fields: ('name', 'bases', 'keywords', 'body', 'decorator_list')\n",
      "-------------------------\n",
      "TEST RESULT: SUCCESS\n",
      "\n",
      "--------------- ALL TESTS COMPLETED ---------------\n"
     ]
    }
   ],
   "source": [
    "test_classdef = [\n",
    "('Default class definition', \"\"\"\n",
    "class Abc:\n",
    "    pass\n",
    "\"\"\", None),\n",
    "('Default class def 2', \"\"\"\n",
    "class Abc():\n",
    "    pass\n",
    "\"\"\", None),\n",
    "]\n",
    "run_tests(test_classdef)"
   ]
  },
  {
   "cell_type": "markdown",
   "metadata": {},
   "source": [
    "# Markup Comments"
   ]
  },
  {
   "cell_type": "code",
   "execution_count": 24,
   "metadata": {},
   "outputs": [],
   "source": [
    "import re"
   ]
  },
  {
   "cell_type": "code",
   "execution_count": 26,
   "metadata": {},
   "outputs": [],
   "source": [
    "class KeywordParser:\n",
    "    def __init__(self, *init_keywords):\n",
    "        self.parsers = {}\n",
    "        for kw in init_keywords: self.parsers[kw] = self._create_parser(kw)\n",
    "\n",
    "    def _create_parser(self, keyword):\n",
    "        pattern = fr\"\"\"\n",
    "        ^              # start of line, since MULTILINE is passed\n",
    "        \\s*            # any amount of whitespace\n",
    "        \\#\\s*          # literal \"#\", then any amount of whitespace\n",
    "        {keyword}(.*)  # keyword followed by arbitrary symbols (except new line)\n",
    "        $              # end of line, since MULTILINE is passed\n",
    "        \"\"\"\n",
    "        return re.compile(pattern, re.IGNORECASE | re.MULTILINE | re.VERBOSE)\n",
    "        \n",
    "    def __getitem__(self, key):\n",
    "        if key in self.parsers: return self.parsers[key]\n",
    "        else:\n",
    "            parser = self._create_parser(key)\n",
    "            self.parsers[key] = parser\n",
    "            return parser"
   ]
  },
  {
   "cell_type": "code",
   "execution_count": 27,
   "metadata": {},
   "outputs": [],
   "source": [
    "OptionsTuple = namedtuple(typename='Options',\n",
    "                          field_names=['export_target', 'internal'],\n",
    "                          defaults=[None, False])"
   ]
  },
  {
   "cell_type": "code",
   "execution_count": 149,
   "metadata": {},
   "outputs": [
    {
     "data": {
      "text/plain": [
       "(None, 'i')"
      ]
     },
     "execution_count": 149,
     "metadata": {},
     "output_type": "execute_result"
    }
   ],
   "source": [
    "_re_legacy_options = re.compile(fr'^(i)?\\s*(\\S*)\\s*$')\n",
    "\n",
    "_re_legacy_options.search('   i').groups()"
   ]
  },
  {
   "cell_type": "code",
   "execution_count": 28,
   "metadata": {},
   "outputs": [],
   "source": [
    "_re_legacy_options = re.compile(fr'^(i)?\\s*(\\S*)\\s*$')\n",
    "def legacy_parse_options(options:str) -> OptionsTuple:\n",
    "    internal, export_target = _re_legacy_options.search(options).groups\n",
    "    return OptionsTuple(export_target=export_target, internal=internal)"
   ]
  },
  {
   "cell_type": "code",
   "execution_count": 46,
   "metadata": {},
   "outputs": [],
   "source": [
    "def parse_options(options:str, legacy:bool=True) -> OptionsTuple:\n",
    "    if (options is None) or (options == '') or (options.isspace()): return OptionsTuple()\n",
    "    else:\n",
    "        if legacy: return legacy_parse_options(options)\n",
    "        else:\n",
    "            raise NotImplementedError('this branch of parse_options() is not implemented yet.')"
   ]
  },
  {
   "cell_type": "code",
   "execution_count": 30,
   "metadata": {},
   "outputs": [],
   "source": [
    "def parse_export(source:str) -> (bool, OptionsTuple):\n",
    "    keyword_parser = KeywordParser()\n",
    "    res = keyword_parser['export'].search(source)\n",
    "    if res: return (True, parse_options(res.groups()[0]))\n",
    "    else: return (False, None)"
   ]
  },
  {
   "cell_type": "code",
   "execution_count": 43,
   "metadata": {},
   "outputs": [],
   "source": [
    "def find_exports(cells:list, default:str, code_only:bool=True) -> list:\n",
    "    # check for each cell if it's supposed to be exported and aggregate cell content together with export options\n",
    "    # remove whitespace at end of lines\n",
    "    exports = []\n",
    "    for i, cell in enumerate(cells):\n",
    "        if code_only and (cell.cell_type != 'code'): continue\n",
    "        else:\n",
    "            # print(i, cell.cell_type)\n",
    "            source = cell.source\n",
    "            # print(source)\n",
    "            to_export, options = parse_export(source)\n",
    "            if to_export:\n",
    "                assert options.export_target or default, f'Cell nr.{i} doesn\\'t have an export target, \\\n",
    "                                                           and a default is not specified:\\n{source}'\n",
    "                if not options.export_target: options = options._replace(export_target=default)\n",
    "                assert options.export_target, f'something went wrong with export target: {options.export_target}'\n",
    "                exports.append((source, options))\n",
    "            else: continue\n",
    "    return exports\n",
    "\n",
    "# list((code, internal, export_target))"
   ]
  },
  {
   "cell_type": "code",
   "execution_count": 32,
   "metadata": {},
   "outputs": [
    {
     "data": {
      "text/plain": [
       "dict_keys(['cell_type', 'execution_count', 'metadata', 'outputs', 'source'])"
      ]
     },
     "execution_count": 32,
     "metadata": {},
     "output_type": "execute_result"
    }
   ],
   "source": [
    "test_nb['cells'][0].keys()"
   ]
  },
  {
   "cell_type": "code",
   "execution_count": 45,
   "metadata": {
    "scrolled": true
   },
   "outputs": [
    {
     "data": {
      "text/plain": [
       "{'cell_type': 'code',\n",
       " 'execution_count': 73,\n",
       " 'metadata': {},\n",
       " 'outputs': [],\n",
       " 'source': 'from collections import namedtuple, defaultdict'}"
      ]
     },
     "execution_count": 45,
     "metadata": {},
     "output_type": "execute_result"
    }
   ],
   "source": [
    "test_nb['cells'][0]"
   ]
  },
  {
   "cell_type": "code",
   "execution_count": 44,
   "metadata": {},
   "outputs": [
    {
     "data": {
      "text/plain": [
       "[('#export\\ndef read_nb(fname):\\n    \"Read the notebook in `fname`.\"\\n    with open(Path(fname),\\'r\\', encoding=\\'utf8\\') as f: return nbformat.reads(f.read(), as_version=4)',\n",
       "  Options(export_target='export', internal=False)),\n",
       " ('test_markup = [\\n(\\'export\\', \"\"\"\\n# export\\n\"\"\", (1, 1, 1, 0)),\\n(\\'export internal\\', \"\"\"\\n# export -i\\n\"\"\", (1, 0, 0, 0)),\\n(\\'export show source\\', \"\"\"\\n# export -s\\n\"\"\", (1, 1, 1, 1)),\\n(\\'export internal show\\', \"\"\"\\n# export -i -s\\n\"\"\", (1, 0, 1, 1)),\\n(\\'default empty\\', \"\"\"\\n\\n\"\"\", None),\\n(\\'hide\\', \"\"\"\\n# hide\\n\"\"\", (0, 0, 0, 0)),\\n(\\'layout 1\\', \"\"\"\\n#export\\n\"\"\", (1, 1, 1, 0)),\\n(\\'layout 2\\', \"\"\"\\n # export\\n\"\"\", (1, 1, 1, 0)),\\n(\\'multiple comments\\', \"\"\"\\n# export\\n# hide\\n\"\"\", None),\\n(\\'multi comment same line\\', \"\"\"\\n# export hide\\n\"\"\", None),\\n(\\'multiple comments default_exp\\', \"\"\"\\n# export\\n# default_exp\\n\"\"\", None),\\n]\\nrun_markup_tests(test_markup)',\n",
       "  Options(export_target='export', internal=False)),\n",
       " ('#export \\ndef notebook2script(fname=None, silent=False, to_dict=False):\\n    \"Convert notebooks matching `fname` to modules\"\\n    # initial checks\\n    if os.environ.get(\\'IN_TEST\\',0): return  # don\\'t export if running tests\\n    if fname is None:\\n        reset_nbdev_module()\\n        update_version()\\n        update_baseurl()\\n        files = [f for f in Config().nbs_path.glob(\\'*.ipynb\\') if not f.name.startswith(\\'_\\')]\\n    else: files = glob.glob(fname)\\n    d = collections.defaultdict(list) if to_dict else None\\n    for f in sorted(files): d = _notebook2script(f, silent=silent, to_dict=d)\\n    if to_dict: return d\\n    else: add_init(Config().lib_path)',\n",
       "  Options(export_target='export', internal=False))]"
      ]
     },
     "execution_count": 44,
     "metadata": {},
     "output_type": "execute_result"
    }
   ],
   "source": [
    "find_exports(test_nb['cells'], 'export', code_only=True)"
   ]
  },
  {
   "cell_type": "markdown",
   "metadata": {
    "heading_collapsed": true
   },
   "source": [
    "## Tests"
   ]
  },
  {
   "cell_type": "code",
   "execution_count": 25,
   "metadata": {
    "hidden": true
   },
   "outputs": [],
   "source": [
    "def run_markup_tests(cases):\n",
    "    for i, (n, c, r) in enumerate(cases):\n",
    "        print(f'({i + 1} / {len(cases)}) TEST {n}:')\n",
    "        try:\n",
    "            res = parse_markup(c)\n",
    "            assert res == r, f'TEST FAILED WITH RESULT: {res}\\nEXPECTED: {r}'\n",
    "            print(f'TEST RESULT: SUCCESS\\n')\n",
    "        except Exception as e:\n",
    "            print(f'TEST FAILED WITH EXCEPTION:\\n{e}\\n')\n",
    "            # raise e\n",
    "    print('--------------- ALL TESTS COMPLETED ---------------')"
   ]
  },
  {
   "cell_type": "raw",
   "metadata": {
    "hidden": true
   },
   "source": [
    "('', \"\"\"\n",
    "\n",
    "\"\"\", None),"
   ]
  },
  {
   "cell_type": "code",
   "execution_count": 23,
   "metadata": {
    "hidden": true
   },
   "outputs": [
    {
     "name": "stdout",
     "output_type": "stream",
     "text": [
      "(1 / 11) TEST export:\n",
      "TEST FAILED WITH EXCEPTION:\n",
      "TEST FAILED WITH RESULT: None\n",
      "EXPECTED: (1, 1, 1, 0)\n",
      "\n",
      "(2 / 11) TEST export internal:\n",
      "TEST FAILED WITH EXCEPTION:\n",
      "TEST FAILED WITH RESULT: None\n",
      "EXPECTED: (1, 0, 0, 0)\n",
      "\n",
      "(3 / 11) TEST export show source:\n",
      "TEST FAILED WITH EXCEPTION:\n",
      "TEST FAILED WITH RESULT: None\n",
      "EXPECTED: (1, 1, 1, 1)\n",
      "\n",
      "(4 / 11) TEST export internal show:\n",
      "TEST FAILED WITH EXCEPTION:\n",
      "TEST FAILED WITH RESULT: None\n",
      "EXPECTED: (1, 0, 1, 1)\n",
      "\n",
      "(5 / 11) TEST default empty:\n",
      "TEST RESULT: SUCCESS\n",
      "\n",
      "(6 / 11) TEST hide:\n",
      "TEST FAILED WITH EXCEPTION:\n",
      "TEST FAILED WITH RESULT: None\n",
      "EXPECTED: (0, 0, 0, 0)\n",
      "\n",
      "(7 / 11) TEST layout 1:\n",
      "TEST FAILED WITH EXCEPTION:\n",
      "TEST FAILED WITH RESULT: None\n",
      "EXPECTED: (1, 1, 1, 0)\n",
      "\n",
      "(8 / 11) TEST layout 2:\n",
      "TEST FAILED WITH EXCEPTION:\n",
      "TEST FAILED WITH RESULT: None\n",
      "EXPECTED: (1, 1, 1, 0)\n",
      "\n",
      "(9 / 11) TEST multiple comments:\n",
      "TEST RESULT: SUCCESS\n",
      "\n",
      "(10 / 11) TEST multi comment same line:\n",
      "TEST RESULT: SUCCESS\n",
      "\n",
      "(11 / 11) TEST multiple comments default_exp:\n",
      "export | default_exp | False\n",
      "TEST FAILED WITH EXCEPTION:\n",
      "keyword does not equal regex result: export != default_exp\n",
      "\n",
      "--------------- ALL TESTS COMPLETED ---------------\n"
     ]
    }
   ],
   "source": [
    "test_markup = [\n",
    "('export', \"\"\"\n",
    "# export\n",
    "\"\"\", (1, 1, 1, 0)),\n",
    "('export internal', \"\"\"\n",
    "# export -i\n",
    "\"\"\", (1, 0, 0, 0)),\n",
    "('export show source', \"\"\"\n",
    "# export -s\n",
    "\"\"\", (1, 1, 1, 1)),\n",
    "('export internal show', \"\"\"\n",
    "# export -i -s\n",
    "\"\"\", (1, 0, 1, 1)),\n",
    "('default empty', \"\"\"\n",
    "\n",
    "\"\"\", None),\n",
    "('hide', \"\"\"\n",
    "# hide\n",
    "\"\"\", (0, 0, 0, 0)),\n",
    "('layout 1', \"\"\"\n",
    "#export\n",
    "\"\"\", (1, 1, 1, 0)),\n",
    "('layout 2', \"\"\"\n",
    " # export\n",
    "\"\"\", (1, 1, 1, 0)),\n",
    "('multiple comments', \"\"\"\n",
    "# export\n",
    "# hide\n",
    "\"\"\", None),\n",
    "('multi comment same line', \"\"\"\n",
    "# export hide\n",
    "\"\"\", None),\n",
    "('multiple comments default_exp', \"\"\"\n",
    "# export\n",
    "# default_exp\n",
    "\"\"\", None),\n",
    "]\n",
    "run_markup_tests(test_markup)"
   ]
  },
  {
   "cell_type": "code",
   "execution_count": 24,
   "metadata": {
    "hidden": true
   },
   "outputs": [
    {
     "data": {
      "text/plain": [
       "((1, 1, 1, 1),)"
      ]
     },
     "execution_count": 24,
     "metadata": {},
     "output_type": "execute_result"
    }
   ],
   "source": [
    "(0, 0, 0, 0), # -> # hide\n",
    "(0, 0, 1, 0), # -> nothing (default)\n",
    "(0, 0, 1, 1), # -> # show source\n",
    "(1, 0, 0, 0), # -> # export internal\n",
    "(1, 0, 1, 0), # -> # export internal show\n",
    "(1, 0, 1, 1), # -> # export internal show source\n",
    "(1, 1, 0, 0), # -> # export hide\n",
    "(1, 1, 1, 0), # -> # export\n",
    "(1, 1, 1, 1), # -> # export show source"
   ]
  },
  {
   "cell_type": "markdown",
   "metadata": {},
   "source": [
    "# Export"
   ]
  },
  {
   "cell_type": "code",
   "execution_count": 35,
   "metadata": {},
   "outputs": [],
   "source": [
    "class ExportCache:\n",
    "    def __init__(self, default_export=None):\n",
    "        self.tupletype = namedtuple(typename='exports', field_names=['export_code', 'export_names'])\n",
    "        self.exports = defaultdict(self._create_exp)\n",
    "        if default_export is not None: self[default_export]\n",
    "    \n",
    "    def _create_exp(self): return self.tupletype(export_code=list(), export_names=set())\n",
    "    \n",
    "    def __getitem__(self, key): return self.exports[key]\n",
    "    \n",
    "    def add_names(self, key, names):\n",
    "        target = self[key].export_names\n",
    "        for name in names: target.add(name)\n",
    "            \n",
    "    def add_code(self, key, code): self[key].export_code.append(code)"
   ]
  },
  {
   "cell_type": "code",
   "execution_count": 36,
   "metadata": {},
   "outputs": [],
   "source": [
    "def find_default_export(cells:list) -> str:\n",
    "    # search through all cells to find the default_exp keyword and return it's value.\n",
    "    # syntax checking\n",
    "    # maybe do some sanity checking\n",
    "    return 'export'\n",
    "    pass"
   ]
  },
  {
   "cell_type": "code",
   "execution_count": 37,
   "metadata": {},
   "outputs": [],
   "source": [
    "def create_mod_file(orig_nbfname, targ_pyfname):\n",
    "    # create the .py file in the correct folder, with a header saying where it was originally from\n",
    "    pass"
   ]
  },
  {
   "cell_type": "code",
   "execution_count": 38,
   "metadata": {},
   "outputs": [],
   "source": [
    "def find_names(code:str) -> list:\n",
    "    # find function and variable names in this code block\n",
    "    # find _all_ declarations\n",
    "    pass"
   ]
  },
  {
   "cell_type": "code",
   "execution_count": 39,
   "metadata": {},
   "outputs": [],
   "source": [
    "def _notebook2script(cells=None, fname=None, silent=False, to_dict=False):\n",
    "    \"\"\"Convert a single notebook\"\"\"\n",
    "    if cells: print('cells is only used for testing purposes!')\n",
    "    if fname is not None: raise NotImplementedError('fname is a \"must pass\", but not yet')\n",
    "    # load notebook content\n",
    "    # load config\n",
    "    default = find_default_export(cells)\n",
    "    if default is None:\n",
    "        print('WARNING: No default export file found! (should this crash, or see if each export has its own target?)')\n",
    "    else:\n",
    "        # maybe this should be done at the bottom, together with all the others\n",
    "        # create_mod_file(original_nbfile_path, target_pyfile_path) # flipped in original code\n",
    "        pass\n",
    "    export_cache = ExportCache(default)\n",
    "    # load _nbdev file and create a spec from it (no idea why this is needed)\n",
    "    exports = find_exports(cells, default)\n",
    "    for j, (code, options)  in enumerate(exports):\n",
    "        # code = clean_code(code)\n",
    "        e, i = options.export_target, options.internal\n",
    "        if not i: export_cache.add_names(e, find_names(code))\n",
    "        export_cache.add_code(e, code)\n",
    "    write_to_export_files(export_cache, default)\n",
    "    # add names to _nbdev index\n",
    "    # write code cell to file\n",
    "    # save _nbdev file"
   ]
  },
  {
   "cell_type": "code",
   "execution_count": 40,
   "metadata": {},
   "outputs": [],
   "source": [
    "#export \n",
    "def notebook2script(fname=None, silent=False, to_dict=False):\n",
    "    \"Convert notebooks matching `fname` to modules\"\n",
    "    # initial checks\n",
    "    if os.environ.get('IN_TEST',0): return  # don't export if running tests\n",
    "    if fname is None:\n",
    "        reset_nbdev_module()\n",
    "        update_version()\n",
    "        update_baseurl()\n",
    "        files = [f for f in Config().nbs_path.glob('*.ipynb') if not f.name.startswith('_')]\n",
    "    else: files = glob.glob(fname)\n",
    "    d = collections.defaultdict(list) if to_dict else None\n",
    "    for f in sorted(files): d = _notebook2script(f, silent=silent, to_dict=d)\n",
    "    if to_dict: return d\n",
    "    else: add_init(Config().lib_path)"
   ]
  },
  {
   "cell_type": "code",
   "execution_count": null,
   "metadata": {},
   "outputs": [],
   "source": []
  }
 ],
 "metadata": {
  "kernelspec": {
   "display_name": "Python 3",
   "language": "python",
   "name": "python3"
  },
  "language_info": {
   "codemirror_mode": {
    "name": "ipython",
    "version": 3
   },
   "file_extension": ".py",
   "mimetype": "text/x-python",
   "name": "python",
   "nbconvert_exporter": "python",
   "pygments_lexer": "ipython3",
   "version": "3.7.3"
  },
  "toc": {
   "base_numbering": 1,
   "nav_menu": {},
   "number_sections": true,
   "sideBar": true,
   "skip_h1_title": false,
   "title_cell": "Table of Contents",
   "title_sidebar": "Contents",
   "toc_cell": false,
   "toc_position": {},
   "toc_section_display": true,
   "toc_window_display": false
  }
 },
 "nbformat": 4,
 "nbformat_minor": 4
}
