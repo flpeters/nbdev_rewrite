{
 "cells": [
  {
   "cell_type": "markdown",
   "metadata": {},
   "source": [
    "# Imports"
   ]
  },
  {
   "cell_type": "code",
   "execution_count": 1,
   "metadata": {},
   "outputs": [],
   "source": [
    "# export\n",
    "from collections import namedtuple, defaultdict"
   ]
  },
  {
   "cell_type": "code",
   "execution_count": 2,
   "metadata": {},
   "outputs": [],
   "source": [
    "# export\n",
    "import os"
   ]
  },
  {
   "cell_type": "code",
   "execution_count": 3,
   "metadata": {},
   "outputs": [],
   "source": [
    "# export\n",
    "import re"
   ]
  },
  {
   "cell_type": "markdown",
   "metadata": {},
   "source": [
    "# Helpers"
   ]
  },
  {
   "cell_type": "code",
   "execution_count": 4,
   "metadata": {},
   "outputs": [],
   "source": [
    "def run_tests(cases, func):\n",
    "    for i, (n, c, r) in enumerate(cases):\n",
    "        print(f'({i + 1} / {len(cases)}) TEST {n}:')\n",
    "        try:\n",
    "            res = func(c)\n",
    "            assert res == r, f'TEST FAILED WITH RESULT: {res}\\nEXPECTED: {r}'\n",
    "            print(f'TEST RESULT: SUCCESS\\n')\n",
    "        except Exception as e:\n",
    "            print(f'TEST FAILED WITH EXCEPTION:\\n{e}\\n')\n",
    "            # raise e\n",
    "    print('--------------- ALL TESTS COMPLETED ---------------')"
   ]
  },
  {
   "cell_type": "markdown",
   "metadata": {},
   "source": [
    "# Init"
   ]
  },
  {
   "cell_type": "code",
   "execution_count": 5,
   "metadata": {},
   "outputs": [],
   "source": [
    "# export\n",
    "from nbdev.imports import *"
   ]
  },
  {
   "cell_type": "code",
   "execution_count": 6,
   "metadata": {},
   "outputs": [],
   "source": [
    "create_config('nbdev-rewrite', 'flpeters', nbs_path='.')"
   ]
  },
  {
   "cell_type": "code",
   "execution_count": 7,
   "metadata": {},
   "outputs": [],
   "source": [
    "if not os.environ.get(\"IN_TEST\", None):\n",
    "    assert IN_NOTEBOOK\n",
    "    assert not IN_COLAB\n",
    "    assert IN_IPYTHON"
   ]
  },
  {
   "cell_type": "markdown",
   "metadata": {},
   "source": [
    "# Notebook Loading"
   ]
  },
  {
   "cell_type": "code",
   "execution_count": 8,
   "metadata": {},
   "outputs": [],
   "source": [
    "#export\n",
    "def read_nb(fname):\n",
    "    \"Read the notebook in `fname`.\"\n",
    "    with open(Path(fname),'r', encoding='utf8') as f: return nbformat.reads(f.read(), as_version=4)"
   ]
  },
  {
   "cell_type": "code",
   "execution_count": 9,
   "metadata": {},
   "outputs": [],
   "source": [
    "test_nb = read_nb('00_export.ipynb')"
   ]
  },
  {
   "cell_type": "code",
   "execution_count": 10,
   "metadata": {},
   "outputs": [
    {
     "data": {
      "text/plain": [
       "dict_keys(['cells', 'metadata', 'nbformat', 'nbformat_minor'])"
      ]
     },
     "execution_count": 10,
     "metadata": {},
     "output_type": "execute_result"
    }
   ],
   "source": [
    "test_nb.keys()"
   ]
  },
  {
   "cell_type": "code",
   "execution_count": 11,
   "metadata": {},
   "outputs": [
    {
     "data": {
      "text/plain": [
       "{'kernelspec': {'display_name': 'Python 3',\n",
       "  'language': 'python',\n",
       "  'name': 'python3'},\n",
       " 'language_info': {'codemirror_mode': {'name': 'ipython', 'version': 3},\n",
       "  'file_extension': '.py',\n",
       "  'mimetype': 'text/x-python',\n",
       "  'name': 'python',\n",
       "  'nbconvert_exporter': 'python',\n",
       "  'pygments_lexer': 'ipython3',\n",
       "  'version': '3.7.3'},\n",
       " 'toc': {'base_numbering': 1,\n",
       "  'nav_menu': {},\n",
       "  'number_sections': True,\n",
       "  'sideBar': True,\n",
       "  'skip_h1_title': False,\n",
       "  'title_cell': 'Table of Contents',\n",
       "  'title_sidebar': 'Contents',\n",
       "  'toc_cell': False,\n",
       "  'toc_position': {},\n",
       "  'toc_section_display': True,\n",
       "  'toc_window_display': False}}"
      ]
     },
     "execution_count": 11,
     "metadata": {},
     "output_type": "execute_result"
    }
   ],
   "source": [
    "test_nb['metadata']"
   ]
  },
  {
   "cell_type": "code",
   "execution_count": 12,
   "metadata": {},
   "outputs": [
    {
     "data": {
      "text/plain": [
       "'4.4'"
      ]
     },
     "execution_count": 12,
     "metadata": {},
     "output_type": "execute_result"
    }
   ],
   "source": [
    "f\"{test_nb['nbformat']}.{test_nb['nbformat_minor']}\""
   ]
  },
  {
   "cell_type": "code",
   "execution_count": 13,
   "metadata": {},
   "outputs": [
    {
     "data": {
      "text/plain": [
       "{'cell_type': 'markdown', 'metadata': {}, 'source': '# Imports'}"
      ]
     },
     "execution_count": 13,
     "metadata": {},
     "output_type": "execute_result"
    }
   ],
   "source": [
    "test_nb['cells'][0]"
   ]
  },
  {
   "cell_type": "code",
   "execution_count": 14,
   "metadata": {},
   "outputs": [
    {
     "data": {
      "text/plain": [
       "55"
      ]
     },
     "execution_count": 14,
     "metadata": {},
     "output_type": "execute_result"
    }
   ],
   "source": [
    "len(test_nb['cells'])"
   ]
  },
  {
   "cell_type": "markdown",
   "metadata": {},
   "source": [
    "# Keyword Comments"
   ]
  },
  {
   "cell_type": "markdown",
   "metadata": {},
   "source": [
    "`detect_comments()` is used to find and extract all comments from a code block.  \n",
    "It's main purpose is to avoid matching on \"comments\" that are actually just part of a string, and not real python comments. One example would be: \n",
    "\n",
    "    \"\"\"\n",
    "    # export\n",
    "    \"\"\"\n",
    "A naive parser would see the literal \"#\" and match that statement. In reality however, this code snippet is a string, and might be e.g. part of a test suit (which is how this bug was found in the first place), and not really meant to be exported."
   ]
  },
  {
   "cell_type": "code",
   "execution_count": 15,
   "metadata": {},
   "outputs": [],
   "source": [
    "# export\n",
    "def detect_comments(s:str, pure_comments_only:bool=True):\n",
    "    # TODO: should non-pure comments ever be allowed?\n",
    "    # TODO: are locations needed?\n",
    "    in_str, str_enter = False, ''\n",
    "    comments = list()\n",
    "    # locations = list()\n",
    "    for i, line in enumerate(s.splitlines()):\n",
    "        is_pure_comment = True\n",
    "        for j, char in enumerate(line):\n",
    "            if not (char.isspace() or char == '#'): is_pure_comment = False\n",
    "            if in_str:\n",
    "                if (char == str_enter): in_str = False\n",
    "            else:\n",
    "                if (char == '#'):\n",
    "                    if pure_comments_only:\n",
    "                        if is_pure_comment: comments.append(line)# ; locations.append((i, 0))\n",
    "                    else: comments.append(line[j:])# ; locations.append((i, j))\n",
    "                    break\n",
    "                elif char == \"'\": in_str, str_enter = True, \"'\"\n",
    "                elif char == '\"': in_str, str_enter = True, '\"'\n",
    "    return comments# , locations"
   ]
  },
  {
   "cell_type": "code",
   "execution_count": 16,
   "metadata": {},
   "outputs": [],
   "source": [
    "# export\n",
    "class KeywordParser:\n",
    "    def __init__(self, *init_keywords):\n",
    "        self.parsers = {}\n",
    "        for kw in init_keywords: self.parsers[kw] = self._create_parser(kw)\n",
    "\n",
    "    def _create_parser(self, keyword):\n",
    "        # TODO: Tighten down the syntax\n",
    "        # TODO: Should there be any whitespace allowed before special comments?\n",
    "        # TODO: Should more than one \"#\" be allowed for special comments?\n",
    "        pattern = fr\"\"\"\n",
    "        ^              # start of line, since MULTILINE is passed\n",
    "        \\s*            # any amount of whitespace\n",
    "        \\#+\\s*          # literal \"#\", then any amount of whitespace\n",
    "        {keyword}(.*)  # keyword followed by arbitrary symbols (except new line)\n",
    "        $              # end of line, since MULTILINE is passed\n",
    "        \"\"\"\n",
    "        return re.compile(pattern, re.IGNORECASE | re.MULTILINE | re.VERBOSE)\n",
    "\n",
    "    def __getitem__(self, key):\n",
    "        if key in self.parsers: return self.parsers[key]\n",
    "        else:\n",
    "            parser = self._create_parser(key)\n",
    "            self.parsers[key] = parser\n",
    "            return parser\n",
    "        \n",
    "    def search(self, key, text):\n",
    "        return self[key].search('\\n'.join(detect_comments(text)))\n",
    "        \n",
    "    def _search_remove(self, key, text):\n",
    "        print('WARNING: _search_remove() DOESN\\'T WORK YET')\n",
    "        # TODO: This function is supposed to remove the keyword comment from the input\n",
    "        # TODO: detect_comments() has to be modified to allow for the positions to be returned\n",
    "        parser = self[key]\n",
    "        text, locations = detect_comments(text)\n",
    "        for comment, l in zip(text, locations):\n",
    "            res = parser.search(comment)\n",
    "            if res: return res, l"
   ]
  },
  {
   "cell_type": "code",
   "execution_count": 17,
   "metadata": {},
   "outputs": [],
   "source": [
    "# export\n",
    "OptionsTuple = namedtuple(typename='Options',\n",
    "                          field_names=['export_target', 'internal'],\n",
    "                          defaults=[None, False])"
   ]
  },
  {
   "cell_type": "code",
   "execution_count": 18,
   "metadata": {},
   "outputs": [],
   "source": [
    "# export\n",
    "_re_legacy_options = re.compile(fr'^(i)?\\s*([a-zA-Z0-9]+\\S*|)\\s*$')\n",
    "def legacy_parse_options(options:str) -> OptionsTuple:\n",
    "    res = _re_legacy_options.search(options)\n",
    "    if res:\n",
    "        internal, export_target = res.groups()\n",
    "        return OptionsTuple(export_target=(export_target if export_target else None), internal=(internal is not None))\n",
    "    else: return None"
   ]
  },
  {
   "cell_type": "code",
   "execution_count": 19,
   "metadata": {},
   "outputs": [],
   "source": [
    "# export\n",
    "def parse_options(options:str, legacy:bool=True) -> OptionsTuple:\n",
    "    if (options is None) or (options == '') or (options.isspace()): return OptionsTuple()\n",
    "    else:\n",
    "        if legacy:\n",
    "            res = legacy_parse_options(options)\n",
    "            if res: return res\n",
    "        # TODO: This.\n",
    "        raise NotImplementedError('this branch of parse_options() is not implemented yet.')"
   ]
  },
  {
   "cell_type": "code",
   "execution_count": 20,
   "metadata": {},
   "outputs": [],
   "source": [
    "# export\n",
    "keyword_parser = KeywordParser()\n",
    "def parse_export(source:str) -> (bool, OptionsTuple):\n",
    "    # TODO: maybe check for # hide as well to overwrite # export?\n",
    "    res = keyword_parser.search('export', source)\n",
    "    if res: return (True, parse_options(res.groups()[0]))\n",
    "    else: return (False, None)"
   ]
  },
  {
   "cell_type": "code",
   "execution_count": 21,
   "metadata": {},
   "outputs": [],
   "source": [
    "# export\n",
    "def find_exports(cells:list, default:str, code_only:bool=True) -> list:\n",
    "    # check for each cell if it's supposed to be exported and aggregate cell content together with export options\n",
    "    # remove whitespace at end of lines\n",
    "    exports = []\n",
    "    for i, cell in enumerate(cells):\n",
    "        if code_only and (cell.cell_type != 'code'): continue\n",
    "        else:\n",
    "            source = cell.source\n",
    "            to_export, options = parse_export(source)\n",
    "            if to_export:\n",
    "                assert options.export_target or default, f'Cell nr.{i} doesn\\'t have an export target, \\\n",
    "                                                           and a default is not specified:\\n{source}'\n",
    "                if not options.export_target: options = options._replace(export_target=default)\n",
    "                exports.append((source, options))\n",
    "            else: continue\n",
    "    return exports"
   ]
  },
  {
   "cell_type": "code",
   "execution_count": 22,
   "metadata": {},
   "outputs": [
    {
     "data": {
      "text/plain": [
       "dict_keys(['cell_type', 'metadata', 'source'])"
      ]
     },
     "execution_count": 22,
     "metadata": {},
     "output_type": "execute_result"
    }
   ],
   "source": [
    "test_nb['cells'][0].keys()"
   ]
  },
  {
   "cell_type": "code",
   "execution_count": 23,
   "metadata": {
    "scrolled": true
   },
   "outputs": [
    {
     "data": {
      "text/plain": [
       "{'cell_type': 'markdown', 'metadata': {}, 'source': '# Imports'}"
      ]
     },
     "execution_count": 23,
     "metadata": {},
     "output_type": "execute_result"
    }
   ],
   "source": [
    "test_nb['cells'][0]"
   ]
  },
  {
   "cell_type": "code",
   "execution_count": 24,
   "metadata": {},
   "outputs": [
    {
     "data": {
      "text/plain": [
       "[('# export\\nfrom collections import namedtuple, defaultdict',\n",
       "  Options(export_target='export', internal=False)),\n",
       " ('# export\\nimport os', Options(export_target='export', internal=False)),\n",
       " ('# export\\nimport re', Options(export_target='export', internal=False)),\n",
       " ('# export\\nfrom nbdev.imports import *',\n",
       "  Options(export_target='export', internal=False)),\n",
       " ('#export\\ndef read_nb(fname):\\n    \"Read the notebook in `fname`.\"\\n    with open(Path(fname),\\'r\\', encoding=\\'utf8\\') as f: return nbformat.reads(f.read(), as_version=4)',\n",
       "  Options(export_target='export', internal=False)),\n",
       " ('# export\\ndef detect_comments(s:str, pure_comments_only:bool=True):\\n    # TODO: should non-pure comments ever be allowed?\\n    # TODO: are locations needed?\\n    in_str, str_enter = False, \\'\\'\\n    comments = list()\\n    # locations = list()\\n    for i, line in enumerate(s.splitlines()):\\n        is_pure_comment = True\\n        for j, char in enumerate(line):\\n            if not (char.isspace() or char == \\'#\\'): is_pure_comment = False\\n            if in_str:\\n                if (char == str_enter): in_str = False\\n            else:\\n                if (char == \\'#\\'):\\n                    if pure_comments_only:\\n                        if is_pure_comment: comments.append(line)# ; locations.append((i, 0))\\n                    else: comments.append(line[j:])# ; locations.append((i, j))\\n                    break\\n                elif char == \"\\'\": in_str, str_enter = True, \"\\'\"\\n                elif char == \\'\"\\': in_str, str_enter = True, \\'\"\\'\\n    return comments# , locations',\n",
       "  Options(export_target='export', internal=False)),\n",
       " ('# export\\nclass KeywordParser:\\n    def __init__(self, *init_keywords):\\n        self.parsers = {}\\n        for kw in init_keywords: self.parsers[kw] = self._create_parser(kw)\\n\\n    def _create_parser(self, keyword):\\n        # TODO: Tighten down the syntax\\n        # TODO: Should there be any whitespace allowed before special comments?\\n        # TODO: Should more than one \"#\" be allowed for special comments?\\n        pattern = fr\"\"\"\\n        ^              # start of line, since MULTILINE is passed\\n        \\\\s*            # any amount of whitespace\\n        \\\\#+\\\\s*          # literal \"#\", then any amount of whitespace\\n        {keyword}(.*)  # keyword followed by arbitrary symbols (except new line)\\n        $              # end of line, since MULTILINE is passed\\n        \"\"\"\\n        return re.compile(pattern, re.IGNORECASE | re.MULTILINE | re.VERBOSE)\\n\\n    def __getitem__(self, key):\\n        if key in self.parsers: return self.parsers[key]\\n        else:\\n            parser = self._create_parser(key)\\n            self.parsers[key] = parser\\n            return parser\\n        \\n    def search(self, key, text):\\n        return self[key].search(\\'\\\\n\\'.join(detect_comments(text)))\\n        \\n    def _search_remove(self, key, text):\\n        print(\\'WARNING: _search_remove() DOESN\\\\\\'T WORK YET\\')\\n        # TODO: This function is supposed to remove the keyword comment from the input\\n        # TODO: detect_comments() has to be modified to allow for the positions to be returned\\n        parser = self[key]\\n        text, locations = detect_comments(text)\\n        for comment, l in zip(text, locations):\\n            res = parser.search(comment)\\n            if res: return res, l',\n",
       "  Options(export_target='export', internal=False)),\n",
       " (\"# export\\nOptionsTuple = namedtuple(typename='Options',\\n                          field_names=['export_target', 'internal'],\\n                          defaults=[None, False])\",\n",
       "  Options(export_target='export', internal=False)),\n",
       " (\"# export\\n_re_legacy_options = re.compile(fr'^(i)?\\\\s*([a-zA-Z0-9]+\\\\S*|)\\\\s*$')\\ndef legacy_parse_options(options:str) -> OptionsTuple:\\n    res = _re_legacy_options.search(options)\\n    if res:\\n        internal, export_target = res.groups()\\n        return OptionsTuple(export_target=(export_target if export_target else None), internal=(internal is not None))\\n    else: return None\",\n",
       "  Options(export_target='export', internal=False)),\n",
       " (\"# export\\ndef parse_options(options:str, legacy:bool=True) -> OptionsTuple:\\n    if (options is None) or (options == '') or (options.isspace()): return OptionsTuple()\\n    else:\\n        if legacy:\\n            res = legacy_parse_options(options)\\n            if res: return res\\n        # TODO: This.\\n        raise NotImplementedError('this branch of parse_options() is not implemented yet.')\",\n",
       "  Options(export_target='export', internal=False)),\n",
       " (\"# export\\nkeyword_parser = KeywordParser()\\ndef parse_export(source:str) -> (bool, OptionsTuple):\\n    # TODO: maybe check for # hide as well to overwrite # export?\\n    res = keyword_parser.search('export', source)\\n    if res: return (True, parse_options(res.groups()[0]))\\n    else: return (False, None)\",\n",
       "  Options(export_target='export', internal=False)),\n",
       " (\"# export\\ndef find_exports(cells:list, default:str, code_only:bool=True) -> list:\\n    # check for each cell if it's supposed to be exported and aggregate cell content together with export options\\n    # remove whitespace at end of lines\\n    exports = []\\n    for i, cell in enumerate(cells):\\n        if code_only and (cell.cell_type != 'code'): continue\\n        else:\\n            source = cell.source\\n            to_export, options = parse_export(source)\\n            if to_export:\\n                assert options.export_target or default, f'Cell nr.{i} doesn\\\\'t have an export target, \\\\\\n                                                           and a default is not specified:\\\\n{source}'\\n                if not options.export_target: options = options._replace(export_target=default)\\n                exports.append((source, options))\\n            else: continue\\n    return exports\",\n",
       "  Options(export_target='export', internal=False)),\n",
       " ('# export\\nimport ast\\nfrom ast import iter_fields, AST\\nimport _ast\\nfrom pprint import pprint',\n",
       "  Options(export_target='export', internal=False)),\n",
       " (\"# export\\ndef print_tree(node):\\n    if isinstance(node, (list, tuple)):\\n        for x in node:\\n            print_tree(x)\\n    elif hasattr(node, '_fields'):\\n        for f in node._fields:\\n            # print(f)\\n            print_tree(node.__getattribute__(f))\\n    else:\\n        print(node)\\n        # pass\",\n",
       "  Options(export_target='export', internal=False)),\n",
       " ('# export\\nclass TestParser(ast.NodeVisitor):\\n    def visit(self, node):\\n        method = \\'visit_\\' + node.__class__.__name__\\n        visitor = getattr(self, method, self.generic_visit)\\n        print(f\\'{node.__class__.__name__} -> {visitor.__name__}\\')\\n        return visitor(node)\\n    \\n    def _default(self, node):\\n        # pprint(node.__dict__)\\n        print(f\\'attr:   {node._attributes}\\\\nfields: {node._fields}\\\\n{\"-\"*25}\\')\\n        \\n    def visit_Assign(self, node): print(node.targets[0].id) # self._default(node)\\n    \\n    def visit_FunctionDef(self, node):\\n        # self._default(node)\\n        print(node.name)\\n#         for d in node.decorator_list:\\n#             print(self.visit(d))\\n            \\n    def visit_ClassDef(self, node): print(node.name) # self._default(node)',\n",
       "  Options(export_target='export', internal=False)),\n",
       " (\"# export\\ndef remove_private_names(names):\\n    to_remove = {n for n in names if n.startswith('_')}\\n    return names.difference(to_remove)\",\n",
       "  Options(export_target='export', internal=False)),\n",
       " ('# export\\ndef update_recursive(node, names=set()):\\n    \"\"\"inplace, recursive updating of names\"\"\"\\n    if isinstance(node, (_ast.List, _ast.Tuple)):\\n        for x in node.elts: unpack_recursive(x, names)\\n    elif isinstance(node, (_ast.Name)): names.add(node.id)\\n    elif isinstance(node, (_ast.Starred)): names.add(node.value.id)\\n    elif isinstance(node, (list, tuple)):\\n        for x in node: unpack_recursive(x, names)\\n    else: raise Exception(f\\'Couldn\\\\\\'t resolve {node} to name, unknown type\\')',\n",
       "  Options(export_target='export', internal=False)),\n",
       " (\"# export\\ndef parse_tree(tree):\\n    # TODO: find _all_ declarations\\n    names = set()\\n    for node in tree.body:\\n        node_name = node.__class__.__name__\\n        if   node_name == 'Assign'     : update_recursive(node.targets, names)\\n        elif node_name == 'FunctionDef': names.add(node.name)\\n        elif node_name == 'ClassDef'   : names.add(node.name)\\n        else: pass\\n    names = remove_private_names(names)\\n    return names\",\n",
       "  Options(export_target='export', internal=False)),\n",
       " ('# export\\ndef find_names(code:str) -> list:\\n    # print(code)\\n    tree = ast.parse(code)\\n    names = parse_tree(tree)\\n    return names # modify ExportCache to accept a set()',\n",
       "  Options(export_target='export', internal=False)),\n",
       " (\"# export\\nclass ExportCache:\\n    def __init__(self, default_export=None):\\n        self.tupletype = namedtuple(typename='exports', field_names=['export_code', 'export_names'])\\n        self.exports = defaultdict(self._create_exp)\\n        if default_export is not None: self[default_export]\\n    \\n    def _create_exp(self): return self.tupletype(export_code=list(), export_names=set())\\n    \\n    def __getitem__(self, key): return self.exports[key]\\n    \\n    def add_names(self, key, names): self[key].export_names.update(names)\\n            \\n    def add_code(self, key, code): self[key].export_code.append(code)\",\n",
       "  Options(export_target='export', internal=False)),\n",
       " (\"# export\\ndef find_default_export(cells:list) -> str:\\n    # search through all cells to find the default_exp keyword and return it's value.\\n    # syntax checking\\n    # maybe do some sanity checking\\n    return 'export'\\n    pass\",\n",
       "  Options(export_target='export', internal=False)),\n",
       " ('# export\\ndef create_mod_file(orig_nbfname, targ_pyfname):\\n    # create the .py file in the correct folder, with a header saying where it was originally from\\n    pass',\n",
       "  Options(export_target='export', internal=False)),\n",
       " ('# export\\ndef _notebook2script(cells=None, fname=None, silent=False, to_dict=False):\\n    \"\"\"Convert a single notebook\"\"\"\\n    if cells: print(\\'WARNING: The Cells parameter is only used for testing purposes!\\')\\n    if fname is not None: raise NotImplementedError(\\'WARNING: fname is a \"must pass\", but not yet\\')\\n    # load notebook content\\n    # load config\\n    default = find_default_export(cells)\\n    if default is None:\\n        print(\\'WARNING: No default export file found! (should this crash, or see if each export has its own target?)\\')\\n    else:\\n        # maybe this should be done at the bottom, together with all the others\\n        # create_mod_file(original_nbfile_path, target_pyfile_path) # flipped in original code\\n        pass\\n    export_cache = ExportCache(default)\\n    # load _nbdev file and create a spec from it (no idea why this is needed)\\n    exports = find_exports(cells, default)\\n    for j, (code, options)  in enumerate(exports):\\n        # code = clean_code(code)\\n        e, i = options.export_target, options.internal\\n        if not i: export_cache.add_names(e, find_names(code))\\n        export_cache.add_code(e, code)\\n    # write_to_export_files(export_cache, default)\\n    # add names to _nbdev index\\n    # write code cell to file\\n    # save _nbdev file\\n    return export_cache',\n",
       "  Options(export_target='export', internal=False)),\n",
       " ('#export \\ndef notebook2script(fname=None, silent=False, to_dict=False):\\n    \"Convert notebooks matching `fname` to modules\"\\n    # initial checks\\n    if os.environ.get(\\'IN_TEST\\',0): return  # don\\'t export if running tests\\n    if fname is None:\\n        reset_nbdev_module()\\n        update_version()\\n        update_baseurl()\\n        files = [f for f in Config().nbs_path.glob(\\'*.ipynb\\') if not f.name.startswith(\\'_\\')]\\n    else: files = glob.glob(fname)\\n    d = collections.defaultdict(list) if to_dict else None\\n    for f in sorted(files): d = _notebook2script(f, silent=silent, to_dict=d)\\n    if to_dict: return d\\n    else: add_init(Config().lib_path)',\n",
       "  Options(export_target='export', internal=False))]"
      ]
     },
     "execution_count": 24,
     "metadata": {},
     "output_type": "execute_result"
    }
   ],
   "source": [
    "find_exports(test_nb['cells'], 'export', code_only=True)"
   ]
  },
  {
   "cell_type": "markdown",
   "metadata": {
    "heading_collapsed": true
   },
   "source": [
    "## Tests"
   ]
  },
  {
   "cell_type": "code",
   "execution_count": 225,
   "metadata": {
    "hidden": true
   },
   "outputs": [
    {
     "name": "stdout",
     "output_type": "stream",
     "text": [
      "(1 / 7) TEST trippe quote('''):\n",
      "TEST RESULT: SUCCESS\n",
      "\n",
      "(2 / 7) TEST tripple quote(\"\"\"):\n",
      "TEST RESULT: SUCCESS\n",
      "\n",
      "(3 / 7) TEST single quote(\"):\n",
      "TEST RESULT: SUCCESS\n",
      "\n",
      "(4 / 7) TEST single quote('):\n",
      "TEST RESULT: SUCCESS\n",
      "\n",
      "(5 / 7) TEST correct:\n",
      "TEST RESULT: SUCCESS\n",
      "\n",
      "(6 / 7) TEST tricky case 1:\n",
      "TEST RESULT: SUCCESS\n",
      "\n",
      "(7 / 7) TEST tricky case 2:\n",
      "TEST RESULT: SUCCESS\n",
      "\n",
      "--------------- ALL TESTS COMPLETED ---------------\n"
     ]
    }
   ],
   "source": [
    "test_strings = [\n",
    "(\"trippe quote(''')\", \"\"\"'''\n",
    "#export\n",
    "'''\"\"\", (False, None)),\n",
    "('tripple quote(\"\"\")', '''\"\"\"\n",
    "#export\n",
    "\"\"\"''', (False, None)),\n",
    "('single quote(\")', '\"\\\n",
    "\\n#export\\n\\\n",
    "\"', (False, None)),\n",
    "(\"single quote(')\", \"'\\\n",
    "\\n#export\\n\\\n",
    "'\", (False, None)),\n",
    "(\"correct\", \"\"\"\n",
    "#export\n",
    "\"\"\", (True, OptionsTuple())),\n",
    "(\"tricky case 1\", \"\"\"\n",
    "'this is a string'\n",
    "#export\n",
    "'this also, but between is an actual comment'\n",
    "\"\"\", (True, OptionsTuple())),\n",
    "(\"tricky case 2\", \"\"\"\n",
    "  a #export\n",
    "'''\n",
    "#export\n",
    "'''\n",
    "####export\"\"\", (True, OptionsTuple())),\n",
    "]\n",
    "run_tests(test_strings, parse_export)"
   ]
  },
  {
   "cell_type": "code",
   "execution_count": 226,
   "metadata": {
    "hidden": true
   },
   "outputs": [
    {
     "name": "stdout",
     "output_type": "stream",
     "text": [
      "(1 / 11) TEST export:\n",
      "TEST RESULT: SUCCESS\n",
      "\n",
      "(2 / 11) TEST comment layout:\n",
      "TEST RESULT: SUCCESS\n",
      "\n",
      "(3 / 11) TEST export internal legacy:\n",
      "TEST RESULT: SUCCESS\n",
      "\n",
      "(4 / 11) TEST export internal:\n",
      "TEST FAILED WITH EXCEPTION:\n",
      "this branch of parse_options() is not implemented yet.\n",
      "\n",
      "(5 / 11) TEST export show source:\n",
      "TEST FAILED WITH EXCEPTION:\n",
      "this branch of parse_options() is not implemented yet.\n",
      "\n",
      "(6 / 11) TEST export internal show:\n",
      "TEST FAILED WITH EXCEPTION:\n",
      "this branch of parse_options() is not implemented yet.\n",
      "\n",
      "(7 / 11) TEST default empty:\n",
      "TEST RESULT: SUCCESS\n",
      "\n",
      "(8 / 11) TEST hide:\n",
      "TEST RESULT: SUCCESS\n",
      "\n",
      "(9 / 11) TEST multiple comments:\n",
      "TEST RESULT: SUCCESS\n",
      "\n",
      "(10 / 11) TEST multi comment same line:\n",
      "TEST RESULT: SUCCESS\n",
      "\n",
      "(11 / 11) TEST multiple comments default_exp:\n",
      "TEST RESULT: SUCCESS\n",
      "\n",
      "--------------- ALL TESTS COMPLETED ---------------\n"
     ]
    }
   ],
   "source": [
    "test_markup = [\n",
    "('export', \"\"\"\n",
    "# export\n",
    "\"\"\", (True, OptionsTuple())),\n",
    "('comment layout', \"\"\"\n",
    "#export\n",
    "\"\"\", (True, OptionsTuple())),\n",
    "('export internal legacy', \"\"\"\n",
    "# exporti\n",
    "\"\"\", (True, OptionsTuple(internal=True))),\n",
    "('export internal', \"\"\"\n",
    "# export -i\n",
    "\"\"\", (True, OptionsTuple(internal=True))),\n",
    "('export show source', \"\"\"\n",
    "# export -s\n",
    "\"\"\", (True, OptionsTuple())),\n",
    "('export internal show', \"\"\"\n",
    "# export -i -s\n",
    "\"\"\", (True, OptionsTuple(internal=True))),\n",
    "('default empty', \"\"\"\n",
    "\n",
    "\"\"\", (False, None)),\n",
    "('hide', \"\"\"\n",
    "# hide\n",
    "\"\"\", (False, None)),\n",
    "('multiple comments', \"\"\"\n",
    "# export\n",
    "# hide\n",
    "\"\"\", (True, OptionsTuple())),\n",
    "('multi comment same line', \"\"\"\n",
    "# export hide\n",
    "\"\"\", (True, OptionsTuple(export_target='hide'))),\n",
    "('multiple comments default_exp', \"\"\"\n",
    "# export\n",
    "# default_exp\n",
    "\"\"\", (True, OptionsTuple())),\n",
    "]\n",
    "run_tests(test_markup, parse_export)"
   ]
  },
  {
   "cell_type": "markdown",
   "metadata": {},
   "source": [
    "# Names"
   ]
  },
  {
   "cell_type": "code",
   "execution_count": 25,
   "metadata": {},
   "outputs": [],
   "source": [
    "# export\n",
    "import ast\n",
    "from ast import iter_fields, AST\n",
    "import _ast\n",
    "from pprint import pprint"
   ]
  },
  {
   "cell_type": "code",
   "execution_count": 26,
   "metadata": {},
   "outputs": [],
   "source": [
    "# export\n",
    "def print_tree(node):\n",
    "    if isinstance(node, (list, tuple)):\n",
    "        for x in node:\n",
    "            print_tree(x)\n",
    "    elif hasattr(node, '_fields'):\n",
    "        for f in node._fields:\n",
    "            # print(f)\n",
    "            print_tree(node.__getattribute__(f))\n",
    "    else:\n",
    "        print(node)\n",
    "        # pass"
   ]
  },
  {
   "cell_type": "code",
   "execution_count": 27,
   "metadata": {},
   "outputs": [],
   "source": [
    "# export\n",
    "class TestParser(ast.NodeVisitor):\n",
    "    def visit(self, node):\n",
    "        method = 'visit_' + node.__class__.__name__\n",
    "        visitor = getattr(self, method, self.generic_visit)\n",
    "        print(f'{node.__class__.__name__} -> {visitor.__name__}')\n",
    "        return visitor(node)\n",
    "    \n",
    "    def _default(self, node):\n",
    "        # pprint(node.__dict__)\n",
    "        print(f'attr:   {node._attributes}\\nfields: {node._fields}\\n{\"-\"*25}')\n",
    "        \n",
    "    def visit_Assign(self, node): print(node.targets[0].id) # self._default(node)\n",
    "    \n",
    "    def visit_FunctionDef(self, node):\n",
    "        # self._default(node)\n",
    "        print(node.name)\n",
    "#         for d in node.decorator_list:\n",
    "#             print(self.visit(d))\n",
    "            \n",
    "    def visit_ClassDef(self, node): print(node.name) # self._default(node)"
   ]
  },
  {
   "cell_type": "code",
   "execution_count": 28,
   "metadata": {},
   "outputs": [],
   "source": [
    "# export\n",
    "def remove_private_names(names):\n",
    "    to_remove = {n for n in names if n.startswith('_')}\n",
    "    return names.difference(to_remove)"
   ]
  },
  {
   "cell_type": "code",
   "execution_count": 37,
   "metadata": {},
   "outputs": [],
   "source": [
    "# export\n",
    "def update_recursive(node, names=set()):\n",
    "    \"\"\"inplace, recursive updating of names\"\"\"\n",
    "    if isinstance(node, (_ast.List, _ast.Tuple)):\n",
    "        for x in node.elts: update_recursive(x, names)\n",
    "    elif isinstance(node, (_ast.Name)): names.add(node.id)\n",
    "    elif isinstance(node, (_ast.Starred)): names.add(node.value.id)\n",
    "    elif isinstance(node, (list, tuple)):\n",
    "        for x in node: update_recursive(x, names)\n",
    "    else: raise Exception(f'Couldn\\'t resolve {node} to name, unknown type')"
   ]
  },
  {
   "cell_type": "code",
   "execution_count": 30,
   "metadata": {},
   "outputs": [],
   "source": [
    "# export\n",
    "def parse_tree(tree):\n",
    "    # TODO: find _all_ declarations\n",
    "    names = set()\n",
    "    for node in tree.body:\n",
    "        node_name = node.__class__.__name__\n",
    "        if   node_name == 'Assign'     : update_recursive(node.targets, names)\n",
    "        elif node_name == 'FunctionDef': names.add(node.name)\n",
    "        elif node_name == 'ClassDef'   : names.add(node.name)\n",
    "        else: pass\n",
    "    names = remove_private_names(names)\n",
    "    return names"
   ]
  },
  {
   "cell_type": "code",
   "execution_count": 31,
   "metadata": {},
   "outputs": [],
   "source": [
    "# export\n",
    "def find_names(code:str) -> list:\n",
    "    # print(code)\n",
    "    tree = ast.parse(code)\n",
    "    names = parse_tree(tree)\n",
    "    return names # modify ExportCache to accept a set()"
   ]
  },
  {
   "cell_type": "markdown",
   "metadata": {
    "heading_collapsed": true
   },
   "source": [
    "## Tests"
   ]
  },
  {
   "cell_type": "code",
   "execution_count": 378,
   "metadata": {
    "hidden": true
   },
   "outputs": [
    {
     "name": "stdout",
     "output_type": "stream",
     "text": [
      "(1 / 7) TEST Default Assignment:\n",
      "TEST RESULT: SUCCESS\n",
      "\n",
      "(2 / 7) TEST Tuple unpacking:\n",
      "TEST RESULT: SUCCESS\n",
      "\n",
      "(3 / 7) TEST unpacking to tuples and lists:\n",
      "TEST RESULT: SUCCESS\n",
      "\n",
      "(4 / 7) TEST unpacking to tuples and lists x2:\n",
      "TEST RESULT: SUCCESS\n",
      "\n",
      "(5 / 7) TEST Multiple assignments:\n",
      "TEST RESULT: SUCCESS\n",
      "\n",
      "(6 / 7) TEST List Deconstruction:\n",
      "TEST RESULT: SUCCESS\n",
      "\n",
      "(7 / 7) TEST Private Variables:\n",
      "TEST RESULT: SUCCESS\n",
      "\n",
      "--------------- ALL TESTS COMPLETED ---------------\n"
     ]
    }
   ],
   "source": [
    "test_assignment = [\n",
    "('Default Assignment', \"\"\"\n",
    "a = 1\n",
    "b = a\n",
    "a = 2\n",
    "\"\"\", {'a', 'b'}),\n",
    "('Tuple unpacking', \"\"\"\n",
    "a, b = (1, 2)\n",
    "\"\"\", {'a', 'b'}),\n",
    "('unpacking to tuples and lists', \"\"\"\n",
    "(a, b) = (1, 2)\n",
    "[a, b] = (1, 2)\n",
    "\"\"\", {'a', 'b'}),\n",
    "('unpacking to tuples and lists x2', \"\"\"\n",
    "([a], (b)) = (1, 2)\n",
    "[[a, ((b))]] = (1, 2)\n",
    "\"\"\", {'a', 'b'}),\n",
    "('Multiple assignments', \"\"\"\n",
    "a = b = 2\n",
    "\"\"\", {'a', 'b'}),\n",
    "('List Deconstruction', \"\"\"\n",
    "head, *tail = [1,2,3,4,5]\n",
    "\"\"\", {'head', 'tail'}),\n",
    "('Private Variables', \"\"\"\n",
    "_a = 1\n",
    "\"\"\", set()),\n",
    "]\n",
    "run_tests(test_assignment, find_names)"
   ]
  },
  {
   "cell_type": "code",
   "execution_count": 379,
   "metadata": {
    "hidden": true
   },
   "outputs": [
    {
     "name": "stdout",
     "output_type": "stream",
     "text": [
      "(1 / 4) TEST Default function definition:\n",
      "TEST RESULT: SUCCESS\n",
      "\n",
      "(2 / 4) TEST Type Annotated function def:\n",
      "TEST RESULT: SUCCESS\n",
      "\n",
      "(3 / 4) TEST function decorators:\n",
      "TEST RESULT: SUCCESS\n",
      "\n",
      "(4 / 4) TEST @patch and more complex type annotations:\n",
      "TEST RESULT: SUCCESS\n",
      "\n",
      "--------------- ALL TESTS COMPLETED ---------------\n"
     ]
    }
   ],
   "source": [
    "test_funcdef = [\n",
    "('Default function definition', \"\"\"\n",
    "def add(a, b):\n",
    "    return a + b\n",
    "\"\"\", {'add'}),\n",
    "('Type Annotated function def', \"\"\"\n",
    "def calc(a:int, b:int) -> int:\n",
    "    c:float = 2.0\n",
    "    return (a + b) * c\n",
    "\"\"\", {'calc'}),\n",
    "('function decorators', \"\"\"\n",
    "@test1\n",
    "@test2\n",
    "def add(a, b):\n",
    "    return a + b\n",
    "\"\"\", {'add'}),\n",
    "('@patch and more complex type annotations', \"\"\"\n",
    "@patch\n",
    "def func (obj:(Class1, Class2), a:int)->int:\n",
    "    pass\n",
    "\"\"\", {'func'})\n",
    "]\n",
    "run_tests(test_funcdef, find_names)"
   ]
  },
  {
   "cell_type": "code",
   "execution_count": 380,
   "metadata": {
    "hidden": true
   },
   "outputs": [
    {
     "name": "stdout",
     "output_type": "stream",
     "text": [
      "(1 / 2) TEST Default class definition:\n",
      "TEST RESULT: SUCCESS\n",
      "\n",
      "(2 / 2) TEST Default class def 2:\n",
      "TEST RESULT: SUCCESS\n",
      "\n",
      "--------------- ALL TESTS COMPLETED ---------------\n"
     ]
    }
   ],
   "source": [
    "test_classdef = [\n",
    "('Default class definition', \"\"\"\n",
    "class Abc:\n",
    "    pass\n",
    "\"\"\", {'Abc'}),\n",
    "('Default class def 2', \"\"\"\n",
    "class Abc():\n",
    "    pass\n",
    "\"\"\", {'Abc'}),\n",
    "]\n",
    "run_tests(test_classdef, find_names)"
   ]
  },
  {
   "cell_type": "markdown",
   "metadata": {},
   "source": [
    "# Export"
   ]
  },
  {
   "cell_type": "code",
   "execution_count": 32,
   "metadata": {},
   "outputs": [],
   "source": [
    "# export\n",
    "class ExportCache:\n",
    "    def __init__(self, default_export=None):\n",
    "        self.tupletype = namedtuple(typename='exports', field_names=['export_code', 'export_names'])\n",
    "        self.exports = defaultdict(self._create_exp)\n",
    "        if default_export is not None: self[default_export]\n",
    "    \n",
    "    def _create_exp(self): return self.tupletype(export_code=list(), export_names=set())\n",
    "    \n",
    "    def __getitem__(self, key): return self.exports[key]\n",
    "    \n",
    "    def add_names(self, key, names): self[key].export_names.update(names)\n",
    "            \n",
    "    def add_code(self, key, code): self[key].export_code.append(code)"
   ]
  },
  {
   "cell_type": "code",
   "execution_count": 33,
   "metadata": {},
   "outputs": [],
   "source": [
    "# export\n",
    "def find_default_export(cells:list) -> str:\n",
    "    # search through all cells to find the default_exp keyword and return it's value.\n",
    "    # syntax checking\n",
    "    # maybe do some sanity checking\n",
    "    return 'export'\n",
    "    pass"
   ]
  },
  {
   "cell_type": "code",
   "execution_count": 34,
   "metadata": {},
   "outputs": [],
   "source": [
    "# export\n",
    "def create_mod_file(orig_nbfname, targ_pyfname):\n",
    "    # create the .py file in the correct folder, with a header saying where it was originally from\n",
    "    pass"
   ]
  },
  {
   "cell_type": "code",
   "execution_count": 35,
   "metadata": {},
   "outputs": [],
   "source": [
    "# export\n",
    "def _notebook2script(cells=None, fname=None, silent=False, to_dict=False):\n",
    "    \"\"\"Convert a single notebook\"\"\"\n",
    "    if cells: print('WARNING: The Cells parameter is only used for testing purposes!')\n",
    "    if fname is not None: raise NotImplementedError('WARNING: fname is a \"must pass\", but not yet')\n",
    "    # load notebook content\n",
    "    # load config\n",
    "    default = find_default_export(cells)\n",
    "    if default is None:\n",
    "        print('WARNING: No default export file found! (should this crash, or see if each export has its own target?)')\n",
    "    else:\n",
    "        # maybe this should be done at the bottom, together with all the others\n",
    "        # create_mod_file(original_nbfile_path, target_pyfile_path) # flipped in original code\n",
    "        pass\n",
    "    export_cache = ExportCache(default)\n",
    "    # load _nbdev file and create a spec from it (no idea why this is needed)\n",
    "    exports = find_exports(cells, default)\n",
    "    for j, (code, options)  in enumerate(exports):\n",
    "        # code = clean_code(code)\n",
    "        e, i = options.export_target, options.internal\n",
    "        if not i: export_cache.add_names(e, find_names(code))\n",
    "        export_cache.add_code(e, code)\n",
    "    # write_to_export_files(export_cache, default)\n",
    "    # add names to _nbdev index\n",
    "    # write code cell to file\n",
    "    # save _nbdev file\n",
    "    return export_cache"
   ]
  },
  {
   "cell_type": "code",
   "execution_count": 38,
   "metadata": {},
   "outputs": [
    {
     "name": "stdout",
     "output_type": "stream",
     "text": [
      "WARNING: The Cells parameter is only used for testing purposes!\n"
     ]
    }
   ],
   "source": [
    "ec = _notebook2script(test_nb['cells'])"
   ]
  },
  {
   "cell_type": "code",
   "execution_count": 39,
   "metadata": {
    "scrolled": false
   },
   "outputs": [
    {
     "name": "stdout",
     "output_type": "stream",
     "text": [
      "['# export\\nfrom collections import namedtuple, defaultdict',\n",
      " '# export\\nimport os',\n",
      " '# export\\nimport re',\n",
      " '# export\\nfrom nbdev.imports import *',\n",
      " '#export\\n'\n",
      " 'def read_nb(fname):\\n'\n",
      " '    \"Read the notebook in `fname`.\"\\n'\n",
      " \"    with open(Path(fname),'r', encoding='utf8') as f: return \"\n",
      " 'nbformat.reads(f.read(), as_version=4)',\n",
      " '# export\\n'\n",
      " 'def detect_comments(s:str, pure_comments_only:bool=True):\\n'\n",
      " '    # TODO: should non-pure comments ever be allowed?\\n'\n",
      " '    # TODO: are locations needed?\\n'\n",
      " \"    in_str, str_enter = False, ''\\n\"\n",
      " '    comments = list()\\n'\n",
      " '    # locations = list()\\n'\n",
      " '    for i, line in enumerate(s.splitlines()):\\n'\n",
      " '        is_pure_comment = True\\n'\n",
      " '        for j, char in enumerate(line):\\n'\n",
      " \"            if not (char.isspace() or char == '#'): is_pure_comment = False\\n\"\n",
      " '            if in_str:\\n'\n",
      " '                if (char == str_enter): in_str = False\\n'\n",
      " '            else:\\n'\n",
      " \"                if (char == '#'):\\n\"\n",
      " '                    if pure_comments_only:\\n'\n",
      " '                        if is_pure_comment: comments.append(line)# ; '\n",
      " 'locations.append((i, 0))\\n'\n",
      " '                    else: comments.append(line[j:])# ; locations.append((i, '\n",
      " 'j))\\n'\n",
      " '                    break\\n'\n",
      " '                elif char == \"\\'\": in_str, str_enter = True, \"\\'\"\\n'\n",
      " '                elif char == \\'\"\\': in_str, str_enter = True, \\'\"\\'\\n'\n",
      " '    return comments# , locations',\n",
      " '# export\\n'\n",
      " 'class KeywordParser:\\n'\n",
      " '    def __init__(self, *init_keywords):\\n'\n",
      " '        self.parsers = {}\\n'\n",
      " '        for kw in init_keywords: self.parsers[kw] = self._create_parser(kw)\\n'\n",
      " '\\n'\n",
      " '    def _create_parser(self, keyword):\\n'\n",
      " '        # TODO: Tighten down the syntax\\n'\n",
      " '        # TODO: Should there be any whitespace allowed before special '\n",
      " 'comments?\\n'\n",
      " '        # TODO: Should more than one \"#\" be allowed for special comments?\\n'\n",
      " '        pattern = fr\"\"\"\\n'\n",
      " '        ^              # start of line, since MULTILINE is passed\\n'\n",
      " '        \\\\s*            # any amount of whitespace\\n'\n",
      " '        \\\\#+\\\\s*          # literal \"#\", then any amount of whitespace\\n'\n",
      " '        {keyword}(.*)  # keyword followed by arbitrary symbols (except new '\n",
      " 'line)\\n'\n",
      " '        $              # end of line, since MULTILINE is passed\\n'\n",
      " '        \"\"\"\\n'\n",
      " '        return re.compile(pattern, re.IGNORECASE | re.MULTILINE | '\n",
      " 're.VERBOSE)\\n'\n",
      " '\\n'\n",
      " '    def __getitem__(self, key):\\n'\n",
      " '        if key in self.parsers: return self.parsers[key]\\n'\n",
      " '        else:\\n'\n",
      " '            parser = self._create_parser(key)\\n'\n",
      " '            self.parsers[key] = parser\\n'\n",
      " '            return parser\\n'\n",
      " '        \\n'\n",
      " '    def search(self, key, text):\\n'\n",
      " \"        return self[key].search('\\\\n'.join(detect_comments(text)))\\n\"\n",
      " '        \\n'\n",
      " '    def _search_remove(self, key, text):\\n'\n",
      " \"        print('WARNING: _search_remove() DOESN\\\\'T WORK YET')\\n\"\n",
      " '        # TODO: This function is supposed to remove the keyword comment from '\n",
      " 'the input\\n'\n",
      " '        # TODO: detect_comments() has to be modified to allow for the '\n",
      " 'positions to be returned\\n'\n",
      " '        parser = self[key]\\n'\n",
      " '        text, locations = detect_comments(text)\\n'\n",
      " '        for comment, l in zip(text, locations):\\n'\n",
      " '            res = parser.search(comment)\\n'\n",
      " '            if res: return res, l',\n",
      " '# export\\n'\n",
      " \"OptionsTuple = namedtuple(typename='Options',\\n\"\n",
      " \"                          field_names=['export_target', 'internal'],\\n\"\n",
      " '                          defaults=[None, False])',\n",
      " '# export\\n'\n",
      " \"_re_legacy_options = re.compile(fr'^(i)?\\\\s*([a-zA-Z0-9]+\\\\S*|)\\\\s*$')\\n\"\n",
      " 'def legacy_parse_options(options:str) -> OptionsTuple:\\n'\n",
      " '    res = _re_legacy_options.search(options)\\n'\n",
      " '    if res:\\n'\n",
      " '        internal, export_target = res.groups()\\n'\n",
      " '        return OptionsTuple(export_target=(export_target if export_target '\n",
      " 'else None), internal=(internal is not None))\\n'\n",
      " '    else: return None',\n",
      " '# export\\n'\n",
      " 'def parse_options(options:str, legacy:bool=True) -> OptionsTuple:\\n'\n",
      " \"    if (options is None) or (options == '') or (options.isspace()): return \"\n",
      " 'OptionsTuple()\\n'\n",
      " '    else:\\n'\n",
      " '        if legacy:\\n'\n",
      " '            res = legacy_parse_options(options)\\n'\n",
      " '            if res: return res\\n'\n",
      " '        # TODO: This.\\n'\n",
      " \"        raise NotImplementedError('this branch of parse_options() is not \"\n",
      " \"implemented yet.')\",\n",
      " '# export\\n'\n",
      " 'keyword_parser = KeywordParser()\\n'\n",
      " 'def parse_export(source:str) -> (bool, OptionsTuple):\\n'\n",
      " '    # TODO: maybe check for # hide as well to overwrite # export?\\n'\n",
      " \"    res = keyword_parser.search('export', source)\\n\"\n",
      " '    if res: return (True, parse_options(res.groups()[0]))\\n'\n",
      " '    else: return (False, None)',\n",
      " '# export\\n'\n",
      " 'def find_exports(cells:list, default:str, code_only:bool=True) -> list:\\n'\n",
      " \"    # check for each cell if it's supposed to be exported and aggregate cell \"\n",
      " 'content together with export options\\n'\n",
      " '    # remove whitespace at end of lines\\n'\n",
      " '    exports = []\\n'\n",
      " '    for i, cell in enumerate(cells):\\n'\n",
      " \"        if code_only and (cell.cell_type != 'code'): continue\\n\"\n",
      " '        else:\\n'\n",
      " '            source = cell.source\\n'\n",
      " '            to_export, options = parse_export(source)\\n'\n",
      " '            if to_export:\\n'\n",
      " \"                assert options.export_target or default, f'Cell nr.{i} \"\n",
      " \"doesn\\\\'t have an export target, \\\\\\n\"\n",
      " '                                                           and a default is '\n",
      " \"not specified:\\\\n{source}'\\n\"\n",
      " '                if not options.export_target: options = '\n",
      " 'options._replace(export_target=default)\\n'\n",
      " '                exports.append((source, options))\\n'\n",
      " '            else: continue\\n'\n",
      " '    return exports',\n",
      " '# export\\n'\n",
      " 'import ast\\n'\n",
      " 'from ast import iter_fields, AST\\n'\n",
      " 'import _ast\\n'\n",
      " 'from pprint import pprint',\n",
      " '# export\\n'\n",
      " 'def print_tree(node):\\n'\n",
      " '    if isinstance(node, (list, tuple)):\\n'\n",
      " '        for x in node:\\n'\n",
      " '            print_tree(x)\\n'\n",
      " \"    elif hasattr(node, '_fields'):\\n\"\n",
      " '        for f in node._fields:\\n'\n",
      " '            # print(f)\\n'\n",
      " '            print_tree(node.__getattribute__(f))\\n'\n",
      " '    else:\\n'\n",
      " '        print(node)\\n'\n",
      " '        # pass',\n",
      " '# export\\n'\n",
      " 'class TestParser(ast.NodeVisitor):\\n'\n",
      " '    def visit(self, node):\\n'\n",
      " \"        method = 'visit_' + node.__class__.__name__\\n\"\n",
      " '        visitor = getattr(self, method, self.generic_visit)\\n'\n",
      " \"        print(f'{node.__class__.__name__} -> {visitor.__name__}')\\n\"\n",
      " '        return visitor(node)\\n'\n",
      " '    \\n'\n",
      " '    def _default(self, node):\\n'\n",
      " '        # pprint(node.__dict__)\\n'\n",
      " \"        print(f'attr:   {node._attributes}\\\\nfields: \"\n",
      " '{node._fields}\\\\n{\"-\"*25}\\')\\n'\n",
      " '        \\n'\n",
      " '    def visit_Assign(self, node): print(node.targets[0].id) # '\n",
      " 'self._default(node)\\n'\n",
      " '    \\n'\n",
      " '    def visit_FunctionDef(self, node):\\n'\n",
      " '        # self._default(node)\\n'\n",
      " '        print(node.name)\\n'\n",
      " '#         for d in node.decorator_list:\\n'\n",
      " '#             print(self.visit(d))\\n'\n",
      " '            \\n'\n",
      " '    def visit_ClassDef(self, node): print(node.name) # self._default(node)',\n",
      " '# export\\n'\n",
      " 'def remove_private_names(names):\\n'\n",
      " \"    to_remove = {n for n in names if n.startswith('_')}\\n\"\n",
      " '    return names.difference(to_remove)',\n",
      " '# export\\n'\n",
      " 'def update_recursive(node, names=set()):\\n'\n",
      " '    \"\"\"inplace, recursive updating of names\"\"\"\\n'\n",
      " '    if isinstance(node, (_ast.List, _ast.Tuple)):\\n'\n",
      " '        for x in node.elts: unpack_recursive(x, names)\\n'\n",
      " '    elif isinstance(node, (_ast.Name)): names.add(node.id)\\n'\n",
      " '    elif isinstance(node, (_ast.Starred)): names.add(node.value.id)\\n'\n",
      " '    elif isinstance(node, (list, tuple)):\\n'\n",
      " '        for x in node: unpack_recursive(x, names)\\n'\n",
      " \"    else: raise Exception(f'Couldn\\\\'t resolve {node} to name, unknown \"\n",
      " \"type')\",\n",
      " '# export\\n'\n",
      " 'def parse_tree(tree):\\n'\n",
      " '    # TODO: find _all_ declarations\\n'\n",
      " '    names = set()\\n'\n",
      " '    for node in tree.body:\\n'\n",
      " '        node_name = node.__class__.__name__\\n'\n",
      " \"        if   node_name == 'Assign'     : update_recursive(node.targets, \"\n",
      " 'names)\\n'\n",
      " \"        elif node_name == 'FunctionDef': names.add(node.name)\\n\"\n",
      " \"        elif node_name == 'ClassDef'   : names.add(node.name)\\n\"\n",
      " '        else: pass\\n'\n",
      " '    names = remove_private_names(names)\\n'\n",
      " '    return names',\n",
      " '# export\\n'\n",
      " 'def find_names(code:str) -> list:\\n'\n",
      " '    # print(code)\\n'\n",
      " '    tree = ast.parse(code)\\n'\n",
      " '    names = parse_tree(tree)\\n'\n",
      " '    return names # modify ExportCache to accept a set()',\n",
      " '# export\\n'\n",
      " 'class ExportCache:\\n'\n",
      " '    def __init__(self, default_export=None):\\n'\n",
      " \"        self.tupletype = namedtuple(typename='exports', \"\n",
      " \"field_names=['export_code', 'export_names'])\\n\"\n",
      " '        self.exports = defaultdict(self._create_exp)\\n'\n",
      " '        if default_export is not None: self[default_export]\\n'\n",
      " '    \\n'\n",
      " '    def _create_exp(self): return self.tupletype(export_code=list(), '\n",
      " 'export_names=set())\\n'\n",
      " '    \\n'\n",
      " '    def __getitem__(self, key): return self.exports[key]\\n'\n",
      " '    \\n'\n",
      " '    def add_names(self, key, names): self[key].export_names.update(names)\\n'\n",
      " '            \\n'\n",
      " '    def add_code(self, key, code): self[key].export_code.append(code)',\n",
      " '# export\\n'\n",
      " 'def find_default_export(cells:list) -> str:\\n'\n",
      " '    # search through all cells to find the default_exp keyword and return '\n",
      " \"it's value.\\n\"\n",
      " '    # syntax checking\\n'\n",
      " '    # maybe do some sanity checking\\n'\n",
      " \"    return 'export'\\n\"\n",
      " '    pass',\n",
      " '# export\\n'\n",
      " 'def create_mod_file(orig_nbfname, targ_pyfname):\\n'\n",
      " '    # create the .py file in the correct folder, with a header saying where '\n",
      " 'it was originally from\\n'\n",
      " '    pass',\n",
      " '# export\\n'\n",
      " 'def _notebook2script(cells=None, fname=None, silent=False, to_dict=False):\\n'\n",
      " '    \"\"\"Convert a single notebook\"\"\"\\n'\n",
      " \"    if cells: print('WARNING: The Cells parameter is only used for testing \"\n",
      " \"purposes!')\\n\"\n",
      " \"    if fname is not None: raise NotImplementedError('WARNING: fname is a \"\n",
      " '\"must pass\", but not yet\\')\\n'\n",
      " '    # load notebook content\\n'\n",
      " '    # load config\\n'\n",
      " '    default = find_default_export(cells)\\n'\n",
      " '    if default is None:\\n'\n",
      " \"        print('WARNING: No default export file found! (should this crash, or \"\n",
      " \"see if each export has its own target?)')\\n\"\n",
      " '    else:\\n'\n",
      " '        # maybe this should be done at the bottom, together with all the '\n",
      " 'others\\n'\n",
      " '        # create_mod_file(original_nbfile_path, target_pyfile_path) # '\n",
      " 'flipped in original code\\n'\n",
      " '        pass\\n'\n",
      " '    export_cache = ExportCache(default)\\n'\n",
      " '    # load _nbdev file and create a spec from it (no idea why this is '\n",
      " 'needed)\\n'\n",
      " '    exports = find_exports(cells, default)\\n'\n",
      " '    for j, (code, options)  in enumerate(exports):\\n'\n",
      " '        # code = clean_code(code)\\n'\n",
      " '        e, i = options.export_target, options.internal\\n'\n",
      " '        if not i: export_cache.add_names(e, find_names(code))\\n'\n",
      " '        export_cache.add_code(e, code)\\n'\n",
      " '    # write_to_export_files(export_cache, default)\\n'\n",
      " '    # add names to _nbdev index\\n'\n",
      " '    # write code cell to file\\n'\n",
      " '    # save _nbdev file\\n'\n",
      " '    return export_cache',\n",
      " '#export \\n'\n",
      " 'def notebook2script(fname=None, silent=False, to_dict=False):\\n'\n",
      " '    \"Convert notebooks matching `fname` to modules\"\\n'\n",
      " '    # initial checks\\n'\n",
      " \"    if os.environ.get('IN_TEST',0): return  # don't export if running tests\\n\"\n",
      " '    if fname is None:\\n'\n",
      " '        reset_nbdev_module()\\n'\n",
      " '        update_version()\\n'\n",
      " '        update_baseurl()\\n'\n",
      " \"        files = [f for f in Config().nbs_path.glob('*.ipynb') if not \"\n",
      " \"f.name.startswith('_')]\\n\"\n",
      " '    else: files = glob.glob(fname)\\n'\n",
      " '    d = collections.defaultdict(list) if to_dict else None\\n'\n",
      " '    for f in sorted(files): d = _notebook2script(f, silent=silent, '\n",
      " 'to_dict=d)\\n'\n",
      " '    if to_dict: return d\\n'\n",
      " '    else: add_init(Config().lib_path)']\n",
      "\n",
      "{'detect_comments', 'update_recursive', 'parse_options', 'find_default_export', 'ExportCache', 'find_exports', 'legacy_parse_options', 'create_mod_file', 'KeywordParser', 'parse_tree', 'notebook2script', 'keyword_parser', 'remove_private_names', 'OptionsTuple', 'find_names', 'parse_export', 'print_tree', 'TestParser', 'read_nb'}\n"
     ]
    }
   ],
   "source": [
    "for key in ec.exports.keys():\n",
    "    exp = ec.exports[key]\n",
    "    pprint(exp.export_code)\n",
    "    print('')\n",
    "    print(exp.export_names)"
   ]
  },
  {
   "cell_type": "code",
   "execution_count": 40,
   "metadata": {},
   "outputs": [],
   "source": [
    "#export \n",
    "def notebook2script(fname=None, silent=False, to_dict=False):\n",
    "    \"Convert notebooks matching `fname` to modules\"\n",
    "    # initial checks\n",
    "    if os.environ.get('IN_TEST',0): return  # don't export if running tests\n",
    "    if fname is None:\n",
    "        reset_nbdev_module()\n",
    "        update_version()\n",
    "        update_baseurl()\n",
    "        files = [f for f in Config().nbs_path.glob('*.ipynb') if not f.name.startswith('_')]\n",
    "    else: files = glob.glob(fname)\n",
    "    d = collections.defaultdict(list) if to_dict else None\n",
    "    for f in sorted(files): d = _notebook2script(f, silent=silent, to_dict=d)\n",
    "    if to_dict: return d\n",
    "    else: add_init(Config().lib_path)"
   ]
  },
  {
   "cell_type": "code",
   "execution_count": null,
   "metadata": {},
   "outputs": [],
   "source": []
  }
 ],
 "metadata": {
  "kernelspec": {
   "display_name": "Python 3",
   "language": "python",
   "name": "python3"
  },
  "language_info": {
   "codemirror_mode": {
    "name": "ipython",
    "version": 3
   },
   "file_extension": ".py",
   "mimetype": "text/x-python",
   "name": "python",
   "nbconvert_exporter": "python",
   "pygments_lexer": "ipython3",
   "version": "3.7.3"
  },
  "toc": {
   "base_numbering": 1,
   "nav_menu": {},
   "number_sections": true,
   "sideBar": true,
   "skip_h1_title": false,
   "title_cell": "Table of Contents",
   "title_sidebar": "Contents",
   "toc_cell": false,
   "toc_position": {},
   "toc_section_display": true,
   "toc_window_display": false
  }
 },
 "nbformat": 4,
 "nbformat_minor": 4
}
